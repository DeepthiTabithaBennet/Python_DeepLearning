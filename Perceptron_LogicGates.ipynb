{
  "nbformat": 4,
  "nbformat_minor": 0,
  "metadata": {
    "colab": {
      "provenance": [],
      "authorship_tag": "ABX9TyOAEURTDtHdP81MqLJB2QZ+",
      "include_colab_link": true
    },
    "kernelspec": {
      "name": "python3",
      "display_name": "Python 3"
    },
    "language_info": {
      "name": "python"
    }
  },
  "cells": [
    {
      "cell_type": "markdown",
      "metadata": {
        "id": "view-in-github",
        "colab_type": "text"
      },
      "source": [
        "<a href=\"https://colab.research.google.com/github/DeepthiTabithaBennet/Python_DeepLearning/blob/main/Perceptron_LogicGates.ipynb\" target=\"_parent\"><img src=\"https://colab.research.google.com/assets/colab-badge.svg\" alt=\"Open In Colab\"/></a>"
      ]
    },
    {
      "cell_type": "markdown",
      "source": [
        "# **Perceptron - Logic Gates**"
      ],
      "metadata": {
        "id": "Ow3mHdjam-9Y"
      }
    },
    {
      "cell_type": "code",
      "execution_count": null,
      "metadata": {
        "id": "u_LSdleJa1gj"
      },
      "outputs": [],
      "source": [
        "# source - https://medium.com/@stanleydukor/neural-representation-of-and-or-not-xor-and-xnor-logic-gates-perceptron-algorithm-b0275375fea1\n",
        "\n",
        "# importing Python library\n",
        "import numpy as np"
      ]
    },
    {
      "cell_type": "code",
      "source": [
        "# define Unit Step Function\n",
        "def unitStep(v):\n",
        "\tif v <= 0:\n",
        "\t\treturn 0\n",
        "\telse:\n",
        "\t\treturn 1"
      ],
      "metadata": {
        "id": "bmAabcGkbI7Q"
      },
      "execution_count": null,
      "outputs": []
    },
    {
      "cell_type": "code",
      "source": [
        "# design Perceptron Model\n",
        "def perceptronModel(x, w, b):\n",
        "\tv = np.dot(w, x) + b\n",
        "\ty = unitStep(v)\n",
        "\treturn y"
      ],
      "metadata": {
        "id": "HFrgAEP1bOE_"
      },
      "execution_count": null,
      "outputs": []
    },
    {
      "metadata": {
        "id": "gNYDLfdalEVt"
      },
      "cell_type": "markdown",
      "source": [
        "# **AND GATE**"
      ]
    },
    {
      "cell_type": "code",
      "source": [
        "# AND Logic Function\n",
        "def AND_logicFunction(x):\n",
        "    w = np.array([1, 1])\n",
        "    b = -1\n",
        "    return perceptronModel(x, w, b)\n",
        "\n",
        "# testing the Perceptron Model\n",
        "a = int(input(\"Enter the first Value : \"))\n",
        "b = int(input(\"Enter the second Value : \"))\n",
        "\n",
        "test1 = np.array([a, b])\n",
        "\n",
        "print(\"AND({}, {}) = {}\".format(a, b, AND_logicFunction(test1)))"
      ],
      "metadata": {
        "colab": {
          "base_uri": "https://localhost:8080/"
        },
        "id": "zuukbI0-bQ7P",
        "outputId": "17121704-8d6d-4c0b-b7d8-b9437f5c0c05"
      },
      "execution_count": null,
      "outputs": [
        {
          "output_type": "stream",
          "name": "stdout",
          "text": [
            "Enter the first Value : 1\n",
            "Enter the second Value : 0\n",
            "AND(1, 0) = 0\n"
          ]
        }
      ]
    },
    {
      "metadata": {
        "id": "TsvZMwhOpoNZ"
      },
      "cell_type": "markdown",
      "source": [
        "# **OR GATE**"
      ]
    },
    {
      "cell_type": "code",
      "source": [
        "# OR Logic Function\n",
        "def OR_logicFunction(x):\n",
        "\tw = np.array([2, 2])\n",
        "\tb = -1\n",
        "\treturn perceptronModel(x, w, b)\n",
        "\n",
        "# testing the Perceptron Model\n",
        "a = int(input(\"Enter the first Value : \"))\n",
        "b = int(input(\"Enter the second Value : \"))\n",
        "\n",
        "test2 = np.array([a, b])\n",
        "\n",
        "print(\"OR({}, {}) = {}\".format(a, b, OR_logicFunction(test2)))"
      ],
      "metadata": {
        "colab": {
          "base_uri": "https://localhost:8080/"
        },
        "id": "bGS5FccqfD3A",
        "outputId": "2be7afc0-5453-4cb6-ab0b-830b7bc8d73e"
      },
      "execution_count": null,
      "outputs": [
        {
          "output_type": "stream",
          "name": "stdout",
          "text": [
            "Enter the first Value : 1\n",
            "Enter the second Value : 0\n",
            "OR(1, 0) = 1\n"
          ]
        }
      ]
    },
    {
      "metadata": {
        "id": "c9LlUMTVpqco"
      },
      "cell_type": "markdown",
      "source": [
        "# **NOT GATE**"
      ]
    },
    {
      "cell_type": "code",
      "source": [
        "# NOT Logic Function\n",
        "def NOT_logicFunction(x):\n",
        "\tw = np.array([-1])\n",
        "\tb = 1\n",
        "\treturn perceptronModel(x, w, b)\n",
        "\n",
        "# testing the Perceptron Model\n",
        "a = int(input(\"Enter the Value : \"))\n",
        "\n",
        "test3 = np.array([a])\n",
        "\n",
        "print(\"NOT({}, {}) = {}\".format(a, b, NOT_logicFunction(test3)))"
      ],
      "metadata": {
        "colab": {
          "base_uri": "https://localhost:8080/"
        },
        "id": "65XNj3i4hPDg",
        "outputId": "d4eb1bb8-060c-41cf-9f4a-bb0842abe5ea"
      },
      "execution_count": null,
      "outputs": [
        {
          "output_type": "stream",
          "name": "stdout",
          "text": [
            "Enter the Value : 1\n",
            "NOT(1, 0) = 0\n"
          ]
        }
      ]
    },
    {
      "metadata": {
        "id": "ssb6rsfWpstF"
      },
      "cell_type": "markdown",
      "source": [
        "# **NOR GATE**"
      ]
    },
    {
      "cell_type": "code",
      "source": [
        "# NOR Logic Function\n",
        "def NOR_logicFunction(x):\n",
        "\tw = np.array([-1, -1])\n",
        "\tb = 1\n",
        "\treturn perceptronModel(x, w, b)\n",
        "\n",
        "# testing the Perceptron Model\n",
        "a = int(input(\"Enter the first Value : \"))\n",
        "b = int(input(\"Enter the second Value : \"))\n",
        "\n",
        "test4 = np.array([a, b])\n",
        "\n",
        "print(\"NOR({}, {}) = {}\".format(a, b, NOR_logicFunction(test4)))"
      ],
      "metadata": {
        "colab": {
          "base_uri": "https://localhost:8080/"
        },
        "id": "x_63-sWyiH3Q",
        "outputId": "48a28509-15a0-46c9-fdee-542235bac102"
      },
      "execution_count": null,
      "outputs": [
        {
          "output_type": "stream",
          "name": "stdout",
          "text": [
            "Enter the first Value : 1\n",
            "Enter the second Value : 0\n",
            "NOR(1, 0) = 0\n"
          ]
        }
      ]
    },
    {
      "metadata": {
        "id": "B-yD-WggpvqQ"
      },
      "cell_type": "markdown",
      "source": [
        "# **NAND GATE**"
      ]
    },
    {
      "cell_type": "code",
      "source": [
        "# NAND Logic Function\n",
        "def NAND_logicFunction(x):\n",
        "    w = np.array([-1, -1])\n",
        "    b = 2\n",
        "    return perceptronModel(x, w, b)\n",
        "\n",
        "# testing the Perceptron Model\n",
        "a = int(input(\"Enter the first Value : \"))\n",
        "b = int(input(\"Enter the second Value : \"))\n",
        "\n",
        "test5 = np.array([a, b])\n",
        "\n",
        "print(\"NAND({}, {}) = {}\".format(a, b, NAND_logicFunction(test5)))"
      ],
      "metadata": {
        "colab": {
          "base_uri": "https://localhost:8080/"
        },
        "id": "aOS9t9mAioqT",
        "outputId": "3b0efe69-90a9-44bc-9961-208a8dd8e3d0"
      },
      "execution_count": null,
      "outputs": [
        {
          "output_type": "stream",
          "name": "stdout",
          "text": [
            "Enter the first Value : 1\n",
            "Enter the second Value : 0\n",
            "NAND(1, 0) = 1\n"
          ]
        }
      ]
    }
  ]
}