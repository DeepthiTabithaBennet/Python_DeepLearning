{
  "cells": [
    {
      "cell_type": "markdown",
      "metadata": {
        "id": "view-in-github",
        "colab_type": "text"
      },
      "source": [
        "<a href=\"https://colab.research.google.com/github/DeepthiTabithaBennet/Python_DeepLearning/blob/main/McCullochPitts_LogicGates.ipynb\" target=\"_parent\"><img src=\"https://colab.research.google.com/assets/colab-badge.svg\" alt=\"Open In Colab\"/></a>"
      ]
    },
    {
      "cell_type": "markdown",
      "source": [
        "# **Mc Culloch Pitts Neuron - Logic Gates**"
      ],
      "metadata": {
        "id": "Ow3mHdjam-9Y"
      }
    },
    {
      "metadata": {
        "id": "gNYDLfdalEVt"
      },
      "cell_type": "markdown",
      "source": [
        "# **AND GATE**"
      ]
    },
    {
      "metadata": {
        "_uuid": "d629ff2d2480ee46fbb7e2d37f6b5fab8052498a",
        "_cell_guid": "79c7e3d0-c299-4dcb-8224-4455121ee9b0",
        "trusted": true,
        "colab": {
          "base_uri": "https://localhost:8080/"
        },
        "id": "TLjDjdmPlEVu",
        "outputId": "55594c74-4627-42aa-a721-1e1ebddae0eb"
      },
      "cell_type": "code",
      "source": [
        "#inputs\n",
        "x1 = [0, 0, 1, 1]\n",
        "x2 = [0, 1, 0, 1]\n",
        "t = 2\n",
        "\n",
        "#output\n",
        "print(\"x1    x2    O\")\n",
        "\n",
        "for i in range(len(x1)):\n",
        "    if (x1[i] + x2[i]) >= t:\n",
        "        print(x1[i], '   ', x2[i], '   ', 1)\n",
        "    else:\n",
        "        print(x1[i], '   ', x2[i], '   ', 0)"
      ],
      "execution_count": null,
      "outputs": [
        {
          "output_type": "stream",
          "name": "stdout",
          "text": [
            "x1    x2    O\n",
            "0     0     0\n",
            "0     1     0\n",
            "1     0     0\n",
            "1     1     1\n"
          ]
        }
      ]
    },
    {
      "metadata": {
        "id": "NXbZpq5YlEVw"
      },
      "cell_type": "markdown",
      "source": [
        "# **OR GATE**"
      ]
    },
    {
      "metadata": {
        "trusted": true,
        "colab": {
          "base_uri": "https://localhost:8080/"
        },
        "id": "IkjMHXWflEVw",
        "outputId": "281720aa-8666-4653-8bf0-690e2de90735"
      },
      "cell_type": "code",
      "source": [
        "#inputs\n",
        "x1 = [0, 0, 1, 1]\n",
        "x2 = [0, 1, 0, 1]\n",
        "t = 1\n",
        "\n",
        "#output\n",
        "print(\"x1    x2    O\")\n",
        "\n",
        "for i in range(len(x1)):\n",
        "    if (x1[i] + x2[i]) >= t:\n",
        "        print(x1[i], '   ', x2[i], '   ', 1)\n",
        "    else:\n",
        "        print(x1[i], '   ', x2[i], '   ', 0)"
      ],
      "execution_count": null,
      "outputs": [
        {
          "output_type": "stream",
          "name": "stdout",
          "text": [
            "x1    x2    O\n",
            "0     0     0\n",
            "0     1     1\n",
            "1     0     1\n",
            "1     1     1\n"
          ]
        }
      ]
    },
    {
      "metadata": {
        "id": "9sm_UbZylEVw"
      },
      "cell_type": "markdown",
      "source": [
        "# **NOT GATE**"
      ]
    },
    {
      "metadata": {
        "trusted": true,
        "colab": {
          "base_uri": "https://localhost:8080/"
        },
        "id": "488EtItBlEVx",
        "outputId": "9b1d37fb-c3fe-4043-9b1f-b95eaa531825"
      },
      "cell_type": "code",
      "source": [
        "#inputs\n",
        "x = [0, 1]\n",
        "t = 0\n",
        "\n",
        "#output\n",
        "print(\"x     O\")\n",
        "\n",
        "for i in range(len(x)):\n",
        "    if (x[i]) <= t:\n",
        "        print(x[i], '   ', 1)\n",
        "    else:\n",
        "        print(x[i], '   ', 0)"
      ],
      "execution_count": null,
      "outputs": [
        {
          "output_type": "stream",
          "name": "stdout",
          "text": [
            "x     O\n",
            "0     1\n",
            "1     0\n"
          ]
        }
      ]
    },
    {
      "metadata": {
        "id": "tdf3W-vMlEVx"
      },
      "cell_type": "markdown",
      "source": [
        "# **NAND GATE**"
      ]
    },
    {
      "metadata": {
        "trusted": true,
        "colab": {
          "base_uri": "https://localhost:8080/"
        },
        "id": "fJ7ZjqGWlEVy",
        "outputId": "1545a40f-a6ef-456f-baed-20526d8e0d3a"
      },
      "cell_type": "code",
      "source": [
        "#inputs\n",
        "x1 = [0, 0, 1, 1]\n",
        "x2 = [0, 1, 0, 1]\n",
        "t = 1\n",
        "\n",
        "#output\n",
        "print(\"x1    x2    O\")\n",
        "\n",
        "for i in range(len(x1)):\n",
        "    if (x1[i]+ x2[i]) > t:\n",
        "        print(x1[i], '   ', x2[i], '   ', 0)\n",
        "    else:\n",
        "        print(x1[i], '   ', x2[i], '   ', 1)"
      ],
      "execution_count": null,
      "outputs": [
        {
          "output_type": "stream",
          "name": "stdout",
          "text": [
            "x1    x2    O\n",
            "0     0     1\n",
            "0     1     1\n",
            "1     0     1\n",
            "1     1     0\n"
          ]
        }
      ]
    },
    {
      "metadata": {
        "id": "xqkelf9OlEVy"
      },
      "cell_type": "markdown",
      "source": [
        "# **NOR GATE**"
      ]
    },
    {
      "metadata": {
        "trusted": true,
        "colab": {
          "base_uri": "https://localhost:8080/"
        },
        "id": "66CYKDh2lEVy",
        "outputId": "51ecc6e5-b337-4919-c5bd-4bce77d6297a"
      },
      "cell_type": "code",
      "source": [
        "#inputs\n",
        "x1 = [0, 0, 1, 1]\n",
        "x2 = [0, 1, 0, 1]\n",
        "t = 0\n",
        "\n",
        "#output\n",
        "print(\"x1    x2    O\")\n",
        "\n",
        "for i in range(len(x1)):\n",
        "    if (x1[i] + x2[i]) <= t:\n",
        "        print(x1[i], '   ', x2[i], '   ', 1)\n",
        "    else:\n",
        "        print(x1[i], '   ', x2[i], '   ', 0)"
      ],
      "execution_count": null,
      "outputs": [
        {
          "output_type": "stream",
          "name": "stdout",
          "text": [
            "x1    x2    O\n",
            "0     0     1\n",
            "0     1     0\n",
            "1     0     0\n",
            "1     1     0\n"
          ]
        }
      ]
    }
  ],
  "metadata": {
    "kernelspec": {
      "name": "python3",
      "display_name": "Python 3",
      "language": "python"
    },
    "language_info": {
      "name": "python",
      "version": "3.7.6",
      "mimetype": "text/x-python",
      "codemirror_mode": {
        "name": "ipython",
        "version": 3
      },
      "pygments_lexer": "ipython3",
      "nbconvert_exporter": "python",
      "file_extension": ".py"
    },
    "colab": {
      "provenance": [],
      "include_colab_link": true
    }
  },
  "nbformat": 4,
  "nbformat_minor": 0
}