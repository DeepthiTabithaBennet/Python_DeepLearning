{
  "nbformat": 4,
  "nbformat_minor": 0,
  "metadata": {
    "colab": {
      "provenance": [],
      "authorship_tag": "ABX9TyP/v001vo1TT/OOnD8Thqqf",
      "include_colab_link": true
    },
    "kernelspec": {
      "name": "python3",
      "display_name": "Python 3"
    },
    "language_info": {
      "name": "python"
    }
  },
  "cells": [
    {
      "cell_type": "markdown",
      "metadata": {
        "id": "view-in-github",
        "colab_type": "text"
      },
      "source": [
        "<a href=\"https://colab.research.google.com/github/DeepthiTabithaBennet/Python_DeepLearning/blob/main/ANN_IrisClassification.ipynb\" target=\"_parent\"><img src=\"https://colab.research.google.com/assets/colab-badge.svg\" alt=\"Open In Colab\"/></a>"
      ]
    },
    {
      "cell_type": "markdown",
      "source": [
        "# **Iris Flower Classification Using ANN**"
      ],
      "metadata": {
        "id": "Yy5cTb7vtHHG"
      }
    },
    {
      "cell_type": "code",
      "execution_count": null,
      "metadata": {
        "id": "C7RrUO5at9Lr"
      },
      "outputs": [],
      "source": [
        "import pandas as pd\n",
        "import numpy as np\n",
        "import seaborn as sns\n",
        "from keras.models import Sequential\n",
        "from keras.layers import Dense, Dropout"
      ]
    },
    {
      "cell_type": "code",
      "source": [
        "from google.colab import drive\n",
        "drive.mount(\"/content/gdrive\")"
      ],
      "metadata": {
        "colab": {
          "base_uri": "https://localhost:8080/"
        },
        "id": "iF6bwxlrad6N",
        "outputId": "42dc4859-535e-4be6-8a01-2ed5bc6cce85"
      },
      "execution_count": null,
      "outputs": [
        {
          "output_type": "stream",
          "name": "stdout",
          "text": [
            "Mounted at /content/gdrive\n"
          ]
        }
      ]
    },
    {
      "cell_type": "code",
      "execution_count": null,
      "metadata": {
        "execution": {
          "iopub.execute_input": "2022-04-08T03:53:42.329893Z",
          "iopub.status.busy": "2022-04-08T03:53:42.329043Z",
          "iopub.status.idle": "2022-04-08T03:53:42.335208Z",
          "shell.execute_reply": "2022-04-08T03:53:42.335965Z",
          "shell.execute_reply.started": "2022-04-08T03:41:27.420035Z"
        },
        "papermill": {
          "duration": 0.050451,
          "end_time": "2022-04-08T03:53:42.336159",
          "exception": false,
          "start_time": "2022-04-08T03:53:42.285708",
          "status": "completed"
        },
        "tags": [],
        "id": "328a116a"
      },
      "outputs": [],
      "source": [
        "df_path = '/content/gdrive/My Drive/Deep Learning Datasets/Iris.csv'\n",
        "df = pd.read_csv(df_path)"
      ]
    },
    {
      "cell_type": "code",
      "source": [
        "df = df.drop('Id', axis=1)\n",
        "df.head()"
      ],
      "metadata": {
        "colab": {
          "base_uri": "https://localhost:8080/",
          "height": 206
        },
        "id": "9iiejsT7uHnk",
        "outputId": "c8117d00-6980-4aca-96a3-f1fe1cb005d0"
      },
      "execution_count": null,
      "outputs": [
        {
          "output_type": "execute_result",
          "data": {
            "text/plain": [
              "   SepalLengthCm  SepalWidthCm  PetalLengthCm  PetalWidthCm      Species\n",
              "0            5.1           3.5            1.4           0.2  Iris-setosa\n",
              "1            4.9           3.0            1.4           0.2  Iris-setosa\n",
              "2            4.7           3.2            1.3           0.2  Iris-setosa\n",
              "3            4.6           3.1            1.5           0.2  Iris-setosa\n",
              "4            5.0           3.6            1.4           0.2  Iris-setosa"
            ],
            "text/html": [
              "\n",
              "  <div id=\"df-77902555-6693-4002-917e-749215a277fa\">\n",
              "    <div class=\"colab-df-container\">\n",
              "      <div>\n",
              "<style scoped>\n",
              "    .dataframe tbody tr th:only-of-type {\n",
              "        vertical-align: middle;\n",
              "    }\n",
              "\n",
              "    .dataframe tbody tr th {\n",
              "        vertical-align: top;\n",
              "    }\n",
              "\n",
              "    .dataframe thead th {\n",
              "        text-align: right;\n",
              "    }\n",
              "</style>\n",
              "<table border=\"1\" class=\"dataframe\">\n",
              "  <thead>\n",
              "    <tr style=\"text-align: right;\">\n",
              "      <th></th>\n",
              "      <th>SepalLengthCm</th>\n",
              "      <th>SepalWidthCm</th>\n",
              "      <th>PetalLengthCm</th>\n",
              "      <th>PetalWidthCm</th>\n",
              "      <th>Species</th>\n",
              "    </tr>\n",
              "  </thead>\n",
              "  <tbody>\n",
              "    <tr>\n",
              "      <th>0</th>\n",
              "      <td>5.1</td>\n",
              "      <td>3.5</td>\n",
              "      <td>1.4</td>\n",
              "      <td>0.2</td>\n",
              "      <td>Iris-setosa</td>\n",
              "    </tr>\n",
              "    <tr>\n",
              "      <th>1</th>\n",
              "      <td>4.9</td>\n",
              "      <td>3.0</td>\n",
              "      <td>1.4</td>\n",
              "      <td>0.2</td>\n",
              "      <td>Iris-setosa</td>\n",
              "    </tr>\n",
              "    <tr>\n",
              "      <th>2</th>\n",
              "      <td>4.7</td>\n",
              "      <td>3.2</td>\n",
              "      <td>1.3</td>\n",
              "      <td>0.2</td>\n",
              "      <td>Iris-setosa</td>\n",
              "    </tr>\n",
              "    <tr>\n",
              "      <th>3</th>\n",
              "      <td>4.6</td>\n",
              "      <td>3.1</td>\n",
              "      <td>1.5</td>\n",
              "      <td>0.2</td>\n",
              "      <td>Iris-setosa</td>\n",
              "    </tr>\n",
              "    <tr>\n",
              "      <th>4</th>\n",
              "      <td>5.0</td>\n",
              "      <td>3.6</td>\n",
              "      <td>1.4</td>\n",
              "      <td>0.2</td>\n",
              "      <td>Iris-setosa</td>\n",
              "    </tr>\n",
              "  </tbody>\n",
              "</table>\n",
              "</div>\n",
              "      <button class=\"colab-df-convert\" onclick=\"convertToInteractive('df-77902555-6693-4002-917e-749215a277fa')\"\n",
              "              title=\"Convert this dataframe to an interactive table.\"\n",
              "              style=\"display:none;\">\n",
              "        \n",
              "  <svg xmlns=\"http://www.w3.org/2000/svg\" height=\"24px\"viewBox=\"0 0 24 24\"\n",
              "       width=\"24px\">\n",
              "    <path d=\"M0 0h24v24H0V0z\" fill=\"none\"/>\n",
              "    <path d=\"M18.56 5.44l.94 2.06.94-2.06 2.06-.94-2.06-.94-.94-2.06-.94 2.06-2.06.94zm-11 1L8.5 8.5l.94-2.06 2.06-.94-2.06-.94L8.5 2.5l-.94 2.06-2.06.94zm10 10l.94 2.06.94-2.06 2.06-.94-2.06-.94-.94-2.06-.94 2.06-2.06.94z\"/><path d=\"M17.41 7.96l-1.37-1.37c-.4-.4-.92-.59-1.43-.59-.52 0-1.04.2-1.43.59L10.3 9.45l-7.72 7.72c-.78.78-.78 2.05 0 2.83L4 21.41c.39.39.9.59 1.41.59.51 0 1.02-.2 1.41-.59l7.78-7.78 2.81-2.81c.8-.78.8-2.07 0-2.86zM5.41 20L4 18.59l7.72-7.72 1.47 1.35L5.41 20z\"/>\n",
              "  </svg>\n",
              "      </button>\n",
              "      \n",
              "  <style>\n",
              "    .colab-df-container {\n",
              "      display:flex;\n",
              "      flex-wrap:wrap;\n",
              "      gap: 12px;\n",
              "    }\n",
              "\n",
              "    .colab-df-convert {\n",
              "      background-color: #E8F0FE;\n",
              "      border: none;\n",
              "      border-radius: 50%;\n",
              "      cursor: pointer;\n",
              "      display: none;\n",
              "      fill: #1967D2;\n",
              "      height: 32px;\n",
              "      padding: 0 0 0 0;\n",
              "      width: 32px;\n",
              "    }\n",
              "\n",
              "    .colab-df-convert:hover {\n",
              "      background-color: #E2EBFA;\n",
              "      box-shadow: 0px 1px 2px rgba(60, 64, 67, 0.3), 0px 1px 3px 1px rgba(60, 64, 67, 0.15);\n",
              "      fill: #174EA6;\n",
              "    }\n",
              "\n",
              "    [theme=dark] .colab-df-convert {\n",
              "      background-color: #3B4455;\n",
              "      fill: #D2E3FC;\n",
              "    }\n",
              "\n",
              "    [theme=dark] .colab-df-convert:hover {\n",
              "      background-color: #434B5C;\n",
              "      box-shadow: 0px 1px 3px 1px rgba(0, 0, 0, 0.15);\n",
              "      filter: drop-shadow(0px 1px 2px rgba(0, 0, 0, 0.3));\n",
              "      fill: #FFFFFF;\n",
              "    }\n",
              "  </style>\n",
              "\n",
              "      <script>\n",
              "        const buttonEl =\n",
              "          document.querySelector('#df-77902555-6693-4002-917e-749215a277fa button.colab-df-convert');\n",
              "        buttonEl.style.display =\n",
              "          google.colab.kernel.accessAllowed ? 'block' : 'none';\n",
              "\n",
              "        async function convertToInteractive(key) {\n",
              "          const element = document.querySelector('#df-77902555-6693-4002-917e-749215a277fa');\n",
              "          const dataTable =\n",
              "            await google.colab.kernel.invokeFunction('convertToInteractive',\n",
              "                                                     [key], {});\n",
              "          if (!dataTable) return;\n",
              "\n",
              "          const docLinkHtml = 'Like what you see? Visit the ' +\n",
              "            '<a target=\"_blank\" href=https://colab.research.google.com/notebooks/data_table.ipynb>data table notebook</a>'\n",
              "            + ' to learn more about interactive tables.';\n",
              "          element.innerHTML = '';\n",
              "          dataTable['output_type'] = 'display_data';\n",
              "          await google.colab.output.renderOutput(dataTable, element);\n",
              "          const docLink = document.createElement('div');\n",
              "          docLink.innerHTML = docLinkHtml;\n",
              "          element.appendChild(docLink);\n",
              "        }\n",
              "      </script>\n",
              "    </div>\n",
              "  </div>\n",
              "  "
            ]
          },
          "metadata": {},
          "execution_count": 4
        }
      ]
    },
    {
      "cell_type": "code",
      "source": [
        "df.info()"
      ],
      "metadata": {
        "colab": {
          "base_uri": "https://localhost:8080/"
        },
        "id": "cZfY5qyeuOTT",
        "outputId": "ed18409f-4275-4af7-a289-f5c64c5a4618"
      },
      "execution_count": null,
      "outputs": [
        {
          "output_type": "stream",
          "name": "stdout",
          "text": [
            "<class 'pandas.core.frame.DataFrame'>\n",
            "RangeIndex: 150 entries, 0 to 149\n",
            "Data columns (total 5 columns):\n",
            " #   Column         Non-Null Count  Dtype  \n",
            "---  ------         --------------  -----  \n",
            " 0   SepalLengthCm  150 non-null    float64\n",
            " 1   SepalWidthCm   150 non-null    float64\n",
            " 2   PetalLengthCm  150 non-null    float64\n",
            " 3   PetalWidthCm   150 non-null    float64\n",
            " 4   Species        150 non-null    object \n",
            "dtypes: float64(4), object(1)\n",
            "memory usage: 6.0+ KB\n"
          ]
        }
      ]
    },
    {
      "cell_type": "code",
      "source": [
        "df.describe()"
      ],
      "metadata": {
        "colab": {
          "base_uri": "https://localhost:8080/",
          "height": 300
        },
        "id": "o60ahdYtuXyD",
        "outputId": "605af373-65e3-4358-a775-258bfc5a41b5"
      },
      "execution_count": null,
      "outputs": [
        {
          "output_type": "execute_result",
          "data": {
            "text/plain": [
              "       SepalLengthCm  SepalWidthCm  PetalLengthCm  PetalWidthCm\n",
              "count     150.000000    150.000000     150.000000    150.000000\n",
              "mean        5.843333      3.054000       3.758667      1.198667\n",
              "std         0.828066      0.433594       1.764420      0.763161\n",
              "min         4.300000      2.000000       1.000000      0.100000\n",
              "25%         5.100000      2.800000       1.600000      0.300000\n",
              "50%         5.800000      3.000000       4.350000      1.300000\n",
              "75%         6.400000      3.300000       5.100000      1.800000\n",
              "max         7.900000      4.400000       6.900000      2.500000"
            ],
            "text/html": [
              "\n",
              "  <div id=\"df-27288f67-9a27-4bd6-9204-614f5cfc18dc\">\n",
              "    <div class=\"colab-df-container\">\n",
              "      <div>\n",
              "<style scoped>\n",
              "    .dataframe tbody tr th:only-of-type {\n",
              "        vertical-align: middle;\n",
              "    }\n",
              "\n",
              "    .dataframe tbody tr th {\n",
              "        vertical-align: top;\n",
              "    }\n",
              "\n",
              "    .dataframe thead th {\n",
              "        text-align: right;\n",
              "    }\n",
              "</style>\n",
              "<table border=\"1\" class=\"dataframe\">\n",
              "  <thead>\n",
              "    <tr style=\"text-align: right;\">\n",
              "      <th></th>\n",
              "      <th>SepalLengthCm</th>\n",
              "      <th>SepalWidthCm</th>\n",
              "      <th>PetalLengthCm</th>\n",
              "      <th>PetalWidthCm</th>\n",
              "    </tr>\n",
              "  </thead>\n",
              "  <tbody>\n",
              "    <tr>\n",
              "      <th>count</th>\n",
              "      <td>150.000000</td>\n",
              "      <td>150.000000</td>\n",
              "      <td>150.000000</td>\n",
              "      <td>150.000000</td>\n",
              "    </tr>\n",
              "    <tr>\n",
              "      <th>mean</th>\n",
              "      <td>5.843333</td>\n",
              "      <td>3.054000</td>\n",
              "      <td>3.758667</td>\n",
              "      <td>1.198667</td>\n",
              "    </tr>\n",
              "    <tr>\n",
              "      <th>std</th>\n",
              "      <td>0.828066</td>\n",
              "      <td>0.433594</td>\n",
              "      <td>1.764420</td>\n",
              "      <td>0.763161</td>\n",
              "    </tr>\n",
              "    <tr>\n",
              "      <th>min</th>\n",
              "      <td>4.300000</td>\n",
              "      <td>2.000000</td>\n",
              "      <td>1.000000</td>\n",
              "      <td>0.100000</td>\n",
              "    </tr>\n",
              "    <tr>\n",
              "      <th>25%</th>\n",
              "      <td>5.100000</td>\n",
              "      <td>2.800000</td>\n",
              "      <td>1.600000</td>\n",
              "      <td>0.300000</td>\n",
              "    </tr>\n",
              "    <tr>\n",
              "      <th>50%</th>\n",
              "      <td>5.800000</td>\n",
              "      <td>3.000000</td>\n",
              "      <td>4.350000</td>\n",
              "      <td>1.300000</td>\n",
              "    </tr>\n",
              "    <tr>\n",
              "      <th>75%</th>\n",
              "      <td>6.400000</td>\n",
              "      <td>3.300000</td>\n",
              "      <td>5.100000</td>\n",
              "      <td>1.800000</td>\n",
              "    </tr>\n",
              "    <tr>\n",
              "      <th>max</th>\n",
              "      <td>7.900000</td>\n",
              "      <td>4.400000</td>\n",
              "      <td>6.900000</td>\n",
              "      <td>2.500000</td>\n",
              "    </tr>\n",
              "  </tbody>\n",
              "</table>\n",
              "</div>\n",
              "      <button class=\"colab-df-convert\" onclick=\"convertToInteractive('df-27288f67-9a27-4bd6-9204-614f5cfc18dc')\"\n",
              "              title=\"Convert this dataframe to an interactive table.\"\n",
              "              style=\"display:none;\">\n",
              "        \n",
              "  <svg xmlns=\"http://www.w3.org/2000/svg\" height=\"24px\"viewBox=\"0 0 24 24\"\n",
              "       width=\"24px\">\n",
              "    <path d=\"M0 0h24v24H0V0z\" fill=\"none\"/>\n",
              "    <path d=\"M18.56 5.44l.94 2.06.94-2.06 2.06-.94-2.06-.94-.94-2.06-.94 2.06-2.06.94zm-11 1L8.5 8.5l.94-2.06 2.06-.94-2.06-.94L8.5 2.5l-.94 2.06-2.06.94zm10 10l.94 2.06.94-2.06 2.06-.94-2.06-.94-.94-2.06-.94 2.06-2.06.94z\"/><path d=\"M17.41 7.96l-1.37-1.37c-.4-.4-.92-.59-1.43-.59-.52 0-1.04.2-1.43.59L10.3 9.45l-7.72 7.72c-.78.78-.78 2.05 0 2.83L4 21.41c.39.39.9.59 1.41.59.51 0 1.02-.2 1.41-.59l7.78-7.78 2.81-2.81c.8-.78.8-2.07 0-2.86zM5.41 20L4 18.59l7.72-7.72 1.47 1.35L5.41 20z\"/>\n",
              "  </svg>\n",
              "      </button>\n",
              "      \n",
              "  <style>\n",
              "    .colab-df-container {\n",
              "      display:flex;\n",
              "      flex-wrap:wrap;\n",
              "      gap: 12px;\n",
              "    }\n",
              "\n",
              "    .colab-df-convert {\n",
              "      background-color: #E8F0FE;\n",
              "      border: none;\n",
              "      border-radius: 50%;\n",
              "      cursor: pointer;\n",
              "      display: none;\n",
              "      fill: #1967D2;\n",
              "      height: 32px;\n",
              "      padding: 0 0 0 0;\n",
              "      width: 32px;\n",
              "    }\n",
              "\n",
              "    .colab-df-convert:hover {\n",
              "      background-color: #E2EBFA;\n",
              "      box-shadow: 0px 1px 2px rgba(60, 64, 67, 0.3), 0px 1px 3px 1px rgba(60, 64, 67, 0.15);\n",
              "      fill: #174EA6;\n",
              "    }\n",
              "\n",
              "    [theme=dark] .colab-df-convert {\n",
              "      background-color: #3B4455;\n",
              "      fill: #D2E3FC;\n",
              "    }\n",
              "\n",
              "    [theme=dark] .colab-df-convert:hover {\n",
              "      background-color: #434B5C;\n",
              "      box-shadow: 0px 1px 3px 1px rgba(0, 0, 0, 0.15);\n",
              "      filter: drop-shadow(0px 1px 2px rgba(0, 0, 0, 0.3));\n",
              "      fill: #FFFFFF;\n",
              "    }\n",
              "  </style>\n",
              "\n",
              "      <script>\n",
              "        const buttonEl =\n",
              "          document.querySelector('#df-27288f67-9a27-4bd6-9204-614f5cfc18dc button.colab-df-convert');\n",
              "        buttonEl.style.display =\n",
              "          google.colab.kernel.accessAllowed ? 'block' : 'none';\n",
              "\n",
              "        async function convertToInteractive(key) {\n",
              "          const element = document.querySelector('#df-27288f67-9a27-4bd6-9204-614f5cfc18dc');\n",
              "          const dataTable =\n",
              "            await google.colab.kernel.invokeFunction('convertToInteractive',\n",
              "                                                     [key], {});\n",
              "          if (!dataTable) return;\n",
              "\n",
              "          const docLinkHtml = 'Like what you see? Visit the ' +\n",
              "            '<a target=\"_blank\" href=https://colab.research.google.com/notebooks/data_table.ipynb>data table notebook</a>'\n",
              "            + ' to learn more about interactive tables.';\n",
              "          element.innerHTML = '';\n",
              "          dataTable['output_type'] = 'display_data';\n",
              "          await google.colab.output.renderOutput(dataTable, element);\n",
              "          const docLink = document.createElement('div');\n",
              "          docLink.innerHTML = docLinkHtml;\n",
              "          element.appendChild(docLink);\n",
              "        }\n",
              "      </script>\n",
              "    </div>\n",
              "  </div>\n",
              "  "
            ]
          },
          "metadata": {},
          "execution_count": 6
        }
      ]
    },
    {
      "cell_type": "code",
      "source": [
        "df.tail()"
      ],
      "metadata": {
        "colab": {
          "base_uri": "https://localhost:8080/",
          "height": 206
        },
        "id": "m8o2mIrTumiA",
        "outputId": "4b5cb699-ccc2-4f9e-bbcd-1e3fe1e02085"
      },
      "execution_count": null,
      "outputs": [
        {
          "output_type": "execute_result",
          "data": {
            "text/plain": [
              "     SepalLengthCm  SepalWidthCm  PetalLengthCm  PetalWidthCm         Species\n",
              "145            6.7           3.0            5.2           2.3  Iris-virginica\n",
              "146            6.3           2.5            5.0           1.9  Iris-virginica\n",
              "147            6.5           3.0            5.2           2.0  Iris-virginica\n",
              "148            6.2           3.4            5.4           2.3  Iris-virginica\n",
              "149            5.9           3.0            5.1           1.8  Iris-virginica"
            ],
            "text/html": [
              "\n",
              "  <div id=\"df-13fb07bb-38be-41fd-92ca-84e5c14c6d88\">\n",
              "    <div class=\"colab-df-container\">\n",
              "      <div>\n",
              "<style scoped>\n",
              "    .dataframe tbody tr th:only-of-type {\n",
              "        vertical-align: middle;\n",
              "    }\n",
              "\n",
              "    .dataframe tbody tr th {\n",
              "        vertical-align: top;\n",
              "    }\n",
              "\n",
              "    .dataframe thead th {\n",
              "        text-align: right;\n",
              "    }\n",
              "</style>\n",
              "<table border=\"1\" class=\"dataframe\">\n",
              "  <thead>\n",
              "    <tr style=\"text-align: right;\">\n",
              "      <th></th>\n",
              "      <th>SepalLengthCm</th>\n",
              "      <th>SepalWidthCm</th>\n",
              "      <th>PetalLengthCm</th>\n",
              "      <th>PetalWidthCm</th>\n",
              "      <th>Species</th>\n",
              "    </tr>\n",
              "  </thead>\n",
              "  <tbody>\n",
              "    <tr>\n",
              "      <th>145</th>\n",
              "      <td>6.7</td>\n",
              "      <td>3.0</td>\n",
              "      <td>5.2</td>\n",
              "      <td>2.3</td>\n",
              "      <td>Iris-virginica</td>\n",
              "    </tr>\n",
              "    <tr>\n",
              "      <th>146</th>\n",
              "      <td>6.3</td>\n",
              "      <td>2.5</td>\n",
              "      <td>5.0</td>\n",
              "      <td>1.9</td>\n",
              "      <td>Iris-virginica</td>\n",
              "    </tr>\n",
              "    <tr>\n",
              "      <th>147</th>\n",
              "      <td>6.5</td>\n",
              "      <td>3.0</td>\n",
              "      <td>5.2</td>\n",
              "      <td>2.0</td>\n",
              "      <td>Iris-virginica</td>\n",
              "    </tr>\n",
              "    <tr>\n",
              "      <th>148</th>\n",
              "      <td>6.2</td>\n",
              "      <td>3.4</td>\n",
              "      <td>5.4</td>\n",
              "      <td>2.3</td>\n",
              "      <td>Iris-virginica</td>\n",
              "    </tr>\n",
              "    <tr>\n",
              "      <th>149</th>\n",
              "      <td>5.9</td>\n",
              "      <td>3.0</td>\n",
              "      <td>5.1</td>\n",
              "      <td>1.8</td>\n",
              "      <td>Iris-virginica</td>\n",
              "    </tr>\n",
              "  </tbody>\n",
              "</table>\n",
              "</div>\n",
              "      <button class=\"colab-df-convert\" onclick=\"convertToInteractive('df-13fb07bb-38be-41fd-92ca-84e5c14c6d88')\"\n",
              "              title=\"Convert this dataframe to an interactive table.\"\n",
              "              style=\"display:none;\">\n",
              "        \n",
              "  <svg xmlns=\"http://www.w3.org/2000/svg\" height=\"24px\"viewBox=\"0 0 24 24\"\n",
              "       width=\"24px\">\n",
              "    <path d=\"M0 0h24v24H0V0z\" fill=\"none\"/>\n",
              "    <path d=\"M18.56 5.44l.94 2.06.94-2.06 2.06-.94-2.06-.94-.94-2.06-.94 2.06-2.06.94zm-11 1L8.5 8.5l.94-2.06 2.06-.94-2.06-.94L8.5 2.5l-.94 2.06-2.06.94zm10 10l.94 2.06.94-2.06 2.06-.94-2.06-.94-.94-2.06-.94 2.06-2.06.94z\"/><path d=\"M17.41 7.96l-1.37-1.37c-.4-.4-.92-.59-1.43-.59-.52 0-1.04.2-1.43.59L10.3 9.45l-7.72 7.72c-.78.78-.78 2.05 0 2.83L4 21.41c.39.39.9.59 1.41.59.51 0 1.02-.2 1.41-.59l7.78-7.78 2.81-2.81c.8-.78.8-2.07 0-2.86zM5.41 20L4 18.59l7.72-7.72 1.47 1.35L5.41 20z\"/>\n",
              "  </svg>\n",
              "      </button>\n",
              "      \n",
              "  <style>\n",
              "    .colab-df-container {\n",
              "      display:flex;\n",
              "      flex-wrap:wrap;\n",
              "      gap: 12px;\n",
              "    }\n",
              "\n",
              "    .colab-df-convert {\n",
              "      background-color: #E8F0FE;\n",
              "      border: none;\n",
              "      border-radius: 50%;\n",
              "      cursor: pointer;\n",
              "      display: none;\n",
              "      fill: #1967D2;\n",
              "      height: 32px;\n",
              "      padding: 0 0 0 0;\n",
              "      width: 32px;\n",
              "    }\n",
              "\n",
              "    .colab-df-convert:hover {\n",
              "      background-color: #E2EBFA;\n",
              "      box-shadow: 0px 1px 2px rgba(60, 64, 67, 0.3), 0px 1px 3px 1px rgba(60, 64, 67, 0.15);\n",
              "      fill: #174EA6;\n",
              "    }\n",
              "\n",
              "    [theme=dark] .colab-df-convert {\n",
              "      background-color: #3B4455;\n",
              "      fill: #D2E3FC;\n",
              "    }\n",
              "\n",
              "    [theme=dark] .colab-df-convert:hover {\n",
              "      background-color: #434B5C;\n",
              "      box-shadow: 0px 1px 3px 1px rgba(0, 0, 0, 0.15);\n",
              "      filter: drop-shadow(0px 1px 2px rgba(0, 0, 0, 0.3));\n",
              "      fill: #FFFFFF;\n",
              "    }\n",
              "  </style>\n",
              "\n",
              "      <script>\n",
              "        const buttonEl =\n",
              "          document.querySelector('#df-13fb07bb-38be-41fd-92ca-84e5c14c6d88 button.colab-df-convert');\n",
              "        buttonEl.style.display =\n",
              "          google.colab.kernel.accessAllowed ? 'block' : 'none';\n",
              "\n",
              "        async function convertToInteractive(key) {\n",
              "          const element = document.querySelector('#df-13fb07bb-38be-41fd-92ca-84e5c14c6d88');\n",
              "          const dataTable =\n",
              "            await google.colab.kernel.invokeFunction('convertToInteractive',\n",
              "                                                     [key], {});\n",
              "          if (!dataTable) return;\n",
              "\n",
              "          const docLinkHtml = 'Like what you see? Visit the ' +\n",
              "            '<a target=\"_blank\" href=https://colab.research.google.com/notebooks/data_table.ipynb>data table notebook</a>'\n",
              "            + ' to learn more about interactive tables.';\n",
              "          element.innerHTML = '';\n",
              "          dataTable['output_type'] = 'display_data';\n",
              "          await google.colab.output.renderOutput(dataTable, element);\n",
              "          const docLink = document.createElement('div');\n",
              "          docLink.innerHTML = docLinkHtml;\n",
              "          element.appendChild(docLink);\n",
              "        }\n",
              "      </script>\n",
              "    </div>\n",
              "  </div>\n",
              "  "
            ]
          },
          "metadata": {},
          "execution_count": 7
        }
      ]
    },
    {
      "cell_type": "code",
      "source": [
        "sns.heatmap(df.corr(), annot = True)"
      ],
      "metadata": {
        "colab": {
          "base_uri": "https://localhost:8080/",
          "height": 355
        },
        "id": "BUwN_QljvQNB",
        "outputId": "724a85b7-6f62-4101-b803-da5d7339c5bf"
      },
      "execution_count": null,
      "outputs": [
        {
          "output_type": "execute_result",
          "data": {
            "text/plain": [
              "<Axes: >"
            ]
          },
          "metadata": {},
          "execution_count": 8
        },
        {
          "output_type": "display_data",
          "data": {
            "text/plain": [
              "<Figure size 432x288 with 2 Axes>"
            ],
            "image/png": "[encoded data removed]"
          },
          "metadata": {
            "needs_background": "light"
          }
        }
      ]
    },
    {
      "cell_type": "code",
      "source": [
        "df = df.dropna()"
      ],
      "metadata": {
        "id": "rm4uH2uazUle"
      },
      "execution_count": null,
      "outputs": []
    },
    {
      "cell_type": "code",
      "source": [
        "TARGET_NAME = 'Species'\n",
        "\n",
        "X = df.drop(TARGET_NAME, axis=1)\n",
        "y = df[TARGET_NAME]"
      ],
      "metadata": {
        "id": "5InGYNWBxQkb"
      },
      "execution_count": null,
      "outputs": []
    },
    {
      "cell_type": "code",
      "source": [
        "y.unique()"
      ],
      "metadata": {
        "colab": {
          "base_uri": "https://localhost:8080/"
        },
        "id": "Pq2kS62EG-33",
        "outputId": "22611028-f3cb-4f40-e3cb-32a563bf7cbf"
      },
      "execution_count": null,
      "outputs": [
        {
          "output_type": "execute_result",
          "data": {
            "text/plain": [
              "array(['Iris-setosa', 'Iris-versicolor', 'Iris-virginica'], dtype=object)"
            ]
          },
          "metadata": {},
          "execution_count": 11
        }
      ]
    },
    {
      "cell_type": "code",
      "source": [
        "# X = df.iloc[:, 0:4].values\n",
        "# y = df.iloc[:, 4].values\n",
        "\n",
        "from sklearn.preprocessing import LabelEncoder\n",
        "encoder = LabelEncoder()\n",
        "y1 = encoder.fit_transform(y)\n",
        "Y = pd.get_dummies(y1).values"
      ],
      "metadata": {
        "id": "A-T0kMHwuHqM"
      },
      "execution_count": null,
      "outputs": []
    },
    {
      "cell_type": "code",
      "source": [
        "from sklearn.model_selection import train_test_split\n",
        "X_train, X_test, y_train, y_test = train_test_split(X, Y, test_size=0.2, random_state=42)"
      ],
      "metadata": {
        "id": "iwbMFbfvuHss"
      },
      "execution_count": null,
      "outputs": []
    },
    {
      "cell_type": "code",
      "source": [
        "model = Sequential()\n",
        "model.add(Dense(4, activation='LeakyReLU'))\n",
        "model.add(Dense(3, activation='softmax'))\n",
        "\n",
        "model.compile(loss='categorical_crossentropy', optimizer='SGD', metrics=['accuracy'])"
      ],
      "metadata": {
        "id": "R2-FtDdmuHvf"
      },
      "execution_count": null,
      "outputs": []
    },
    {
      "cell_type": "code",
      "source": [
        "model.fit(X_train, y_train, batch_size=10, epochs=100, validation_split = 0.2)"
      ],
      "metadata": {
        "colab": {
          "base_uri": "https://localhost:8080/"
        },
        "id": "UYMMcipNuk1-",
        "outputId": "7b5b5dac-2e8c-404d-d0cb-5ba5e4a0ed55"
      },
      "execution_count": null,
      "outputs": [
        {
          "output_type": "stream",
          "name": "stdout",
          "text": [
            "Epoch 1/100\n",
            "10/10 [==============================] - 1s 29ms/step - loss: 3.3939 - accuracy: 0.2604 - val_loss: 1.4638 - val_accuracy: 0.0000e+00\n",
            "Epoch 2/100\n",
            "10/10 [==============================] - 0s 9ms/step - loss: 1.2822 - accuracy: 0.0417 - val_loss: 1.3060 - val_accuracy: 0.0000e+00\n",
            "Epoch 3/100\n",
            "10/10 [==============================] - 0s 9ms/step - loss: 1.1105 - accuracy: 0.1146 - val_loss: 1.1942 - val_accuracy: 0.1250\n",
            "Epoch 4/100\n",
            "10/10 [==============================] - 0s 9ms/step - loss: 1.0067 - accuracy: 0.4375 - val_loss: 1.0073 - val_accuracy: 0.2917\n",
            "Epoch 5/100\n",
            "10/10 [==============================] - 0s 8ms/step - loss: 0.9425 - accuracy: 0.5208 - val_loss: 1.0328 - val_accuracy: 0.5417\n",
            "Epoch 6/100\n",
            "10/10 [==============================] - 0s 7ms/step - loss: 0.8731 - accuracy: 0.6979 - val_loss: 0.9080 - val_accuracy: 0.4583\n",
            "Epoch 7/100\n",
            "10/10 [==============================] - 0s 10ms/step - loss: 0.8103 - accuracy: 0.7604 - val_loss: 0.8487 - val_accuracy: 0.4583\n",
            "Epoch 8/100\n",
            "10/10 [==============================] - 0s 13ms/step - loss: 0.7632 - accuracy: 0.7604 - val_loss: 0.8260 - val_accuracy: 0.5833\n",
            "Epoch 9/100\n",
            "10/10 [==============================] - 0s 15ms/step - loss: 0.7218 - accuracy: 0.7604 - val_loss: 0.7873 - val_accuracy: 0.5833\n",
            "Epoch 10/100\n",
            "10/10 [==============================] - 0s 19ms/step - loss: 0.6782 - accuracy: 0.7708 - val_loss: 0.8097 - val_accuracy: 0.5833\n",
            "Epoch 11/100\n",
            "10/10 [==============================] - 0s 27ms/step - loss: 0.6523 - accuracy: 0.8229 - val_loss: 0.7288 - val_accuracy: 0.6667\n",
            "Epoch 12/100\n",
            "10/10 [==============================] - 0s 19ms/step - loss: 0.6151 - accuracy: 0.7917 - val_loss: 0.6540 - val_accuracy: 0.6667\n",
            "Epoch 13/100\n",
            "10/10 [==============================] - 0s 15ms/step - loss: 0.5945 - accuracy: 0.8125 - val_loss: 0.6126 - val_accuracy: 0.7083\n",
            "Epoch 14/100\n",
            "10/10 [==============================] - 0s 12ms/step - loss: 0.5844 - accuracy: 0.7604 - val_loss: 0.6282 - val_accuracy: 0.8333\n",
            "Epoch 15/100\n",
            "10/10 [==============================] - 0s 13ms/step - loss: 0.5573 - accuracy: 0.7917 - val_loss: 0.6198 - val_accuracy: 0.7917\n",
            "Epoch 16/100\n",
            "10/10 [==============================] - 0s 11ms/step - loss: 0.5452 - accuracy: 0.8542 - val_loss: 0.5807 - val_accuracy: 0.7500\n",
            "Epoch 17/100\n",
            "10/10 [==============================] - 0s 13ms/step - loss: 0.5204 - accuracy: 0.7917 - val_loss: 0.6058 - val_accuracy: 0.7500\n",
            "Epoch 18/100\n",
            "10/10 [==============================] - 0s 18ms/step - loss: 0.5061 - accuracy: 0.8542 - val_loss: 0.5902 - val_accuracy: 0.7500\n",
            "Epoch 19/100\n",
            "10/10 [==============================] - 0s 6ms/step - loss: 0.4965 - accuracy: 0.8542 - val_loss: 0.5647 - val_accuracy: 0.8750\n",
            "Epoch 20/100\n",
            "10/10 [==============================] - 0s 8ms/step - loss: 0.4814 - accuracy: 0.8958 - val_loss: 0.5522 - val_accuracy: 0.8750\n",
            "Epoch 21/100\n",
            "10/10 [==============================] - 0s 6ms/step - loss: 0.4748 - accuracy: 0.9271 - val_loss: 0.5451 - val_accuracy: 0.8750\n",
            "Epoch 22/100\n",
            "10/10 [==============================] - 0s 7ms/step - loss: 0.4618 - accuracy: 0.8958 - val_loss: 0.5383 - val_accuracy: 0.8750\n",
            "Epoch 23/100\n",
            "10/10 [==============================] - 0s 7ms/step - loss: 0.4547 - accuracy: 0.9062 - val_loss: 0.5559 - val_accuracy: 0.7500\n",
            "Epoch 24/100\n",
            "10/10 [==============================] - 0s 6ms/step - loss: 0.4463 - accuracy: 0.8854 - val_loss: 0.4835 - val_accuracy: 0.8750\n",
            "Epoch 25/100\n",
            "10/10 [==============================] - 0s 6ms/step - loss: 0.4418 - accuracy: 0.9167 - val_loss: 0.5250 - val_accuracy: 0.8333\n",
            "Epoch 26/100\n",
            "10/10 [==============================] - 0s 6ms/step - loss: 0.4315 - accuracy: 0.9167 - val_loss: 0.4688 - val_accuracy: 0.8750\n",
            "Epoch 27/100\n",
            "10/10 [==============================] - 0s 9ms/step - loss: 0.4273 - accuracy: 0.9062 - val_loss: 0.4624 - val_accuracy: 0.8750\n",
            "Epoch 28/100\n",
            "10/10 [==============================] - 0s 11ms/step - loss: 0.4249 - accuracy: 0.8750 - val_loss: 0.5117 - val_accuracy: 0.7917\n",
            "Epoch 29/100\n",
            "10/10 [==============================] - 0s 9ms/step - loss: 0.4103 - accuracy: 0.9271 - val_loss: 0.5239 - val_accuracy: 0.7500\n",
            "Epoch 30/100\n",
            "10/10 [==============================] - 0s 12ms/step - loss: 0.4161 - accuracy: 0.9062 - val_loss: 0.4625 - val_accuracy: 0.9583\n",
            "Epoch 31/100\n",
            "10/10 [==============================] - 0s 10ms/step - loss: 0.3966 - accuracy: 0.9167 - val_loss: 0.4615 - val_accuracy: 0.9583\n",
            "Epoch 32/100\n",
            "10/10 [==============================] - 0s 10ms/step - loss: 0.3911 - accuracy: 0.9167 - val_loss: 0.5293 - val_accuracy: 0.6667\n",
            "Epoch 33/100\n",
            "10/10 [==============================] - 0s 11ms/step - loss: 0.3899 - accuracy: 0.9479 - val_loss: 0.4743 - val_accuracy: 0.8750\n",
            "Epoch 34/100\n",
            "10/10 [==============================] - 0s 11ms/step - loss: 0.3825 - accuracy: 0.9271 - val_loss: 0.4290 - val_accuracy: 0.9583\n",
            "Epoch 35/100\n",
            "10/10 [==============================] - 0s 10ms/step - loss: 0.3772 - accuracy: 0.9271 - val_loss: 0.5181 - val_accuracy: 0.6667\n",
            "Epoch 36/100\n",
            "10/10 [==============================] - 0s 10ms/step - loss: 0.3791 - accuracy: 0.9271 - val_loss: 0.4584 - val_accuracy: 0.9167\n",
            "Epoch 37/100\n",
            "10/10 [==============================] - 0s 10ms/step - loss: 0.3688 - accuracy: 0.9271 - val_loss: 0.4005 - val_accuracy: 0.9167\n",
            "Epoch 38/100\n",
            "10/10 [==============================] - 0s 9ms/step - loss: 0.3743 - accuracy: 0.9271 - val_loss: 0.4100 - val_accuracy: 0.9583\n",
            "Epoch 39/100\n",
            "10/10 [==============================] - 0s 9ms/step - loss: 0.3650 - accuracy: 0.9271 - val_loss: 0.4350 - val_accuracy: 0.9583\n",
            "Epoch 40/100\n",
            "10/10 [==============================] - 0s 10ms/step - loss: 0.3582 - accuracy: 0.9479 - val_loss: 0.4363 - val_accuracy: 0.9583\n",
            "Epoch 41/100\n",
            "10/10 [==============================] - 0s 10ms/step - loss: 0.3606 - accuracy: 0.9479 - val_loss: 0.4234 - val_accuracy: 0.9583\n",
            "Epoch 42/100\n",
            "10/10 [==============================] - 0s 9ms/step - loss: 0.3594 - accuracy: 0.9062 - val_loss: 0.4204 - val_accuracy: 0.9583\n",
            "Epoch 43/100\n",
            "10/10 [==============================] - 0s 9ms/step - loss: 0.3522 - accuracy: 0.9271 - val_loss: 0.3987 - val_accuracy: 0.9583\n",
            "Epoch 44/100\n",
            "10/10 [==============================] - 0s 10ms/step - loss: 0.3567 - accuracy: 0.9271 - val_loss: 0.4200 - val_accuracy: 0.9583\n",
            "Epoch 45/100\n",
            "10/10 [==============================] - 0s 9ms/step - loss: 0.3403 - accuracy: 0.9479 - val_loss: 0.4094 - val_accuracy: 0.9583\n",
            "Epoch 46/100\n",
            "10/10 [==============================] - 0s 10ms/step - loss: 0.3357 - accuracy: 0.9479 - val_loss: 0.4655 - val_accuracy: 0.7500\n",
            "Epoch 47/100\n",
            "10/10 [==============================] - 0s 12ms/step - loss: 0.3363 - accuracy: 0.9479 - val_loss: 0.3630 - val_accuracy: 1.0000\n",
            "Epoch 48/100\n",
            "10/10 [==============================] - 0s 9ms/step - loss: 0.3364 - accuracy: 0.9375 - val_loss: 0.4173 - val_accuracy: 0.9167\n",
            "Epoch 49/100\n",
            "10/10 [==============================] - 0s 8ms/step - loss: 0.3342 - accuracy: 0.9271 - val_loss: 0.3720 - val_accuracy: 0.9583\n",
            "Epoch 50/100\n",
            "10/10 [==============================] - 0s 10ms/step - loss: 0.3285 - accuracy: 0.9271 - val_loss: 0.4156 - val_accuracy: 0.8750\n",
            "Epoch 51/100\n",
            "10/10 [==============================] - 0s 9ms/step - loss: 0.3227 - accuracy: 0.9375 - val_loss: 0.4057 - val_accuracy: 0.9583\n",
            "Epoch 52/100\n",
            "10/10 [==============================] - 0s 11ms/step - loss: 0.3238 - accuracy: 0.9271 - val_loss: 0.3714 - val_accuracy: 0.9583\n",
            "Epoch 53/100\n",
            "10/10 [==============================] - 0s 12ms/step - loss: 0.3188 - accuracy: 0.9583 - val_loss: 0.4204 - val_accuracy: 0.8333\n",
            "Epoch 54/100\n",
            "10/10 [==============================] - 0s 11ms/step - loss: 0.3210 - accuracy: 0.9375 - val_loss: 0.3427 - val_accuracy: 1.0000\n",
            "Epoch 55/100\n",
            "10/10 [==============================] - 0s 10ms/step - loss: 0.3132 - accuracy: 0.9479 - val_loss: 0.4274 - val_accuracy: 0.7917\n",
            "Epoch 56/100\n",
            "10/10 [==============================] - 0s 11ms/step - loss: 0.3166 - accuracy: 0.9583 - val_loss: 0.3951 - val_accuracy: 0.9583\n",
            "Epoch 57/100\n",
            "10/10 [==============================] - 0s 8ms/step - loss: 0.3138 - accuracy: 0.9167 - val_loss: 0.3879 - val_accuracy: 0.9583\n",
            "Epoch 58/100\n",
            "10/10 [==============================] - 0s 9ms/step - loss: 0.3066 - accuracy: 0.9479 - val_loss: 0.3464 - val_accuracy: 0.9583\n",
            "Epoch 59/100\n",
            "10/10 [==============================] - 0s 9ms/step - loss: 0.3018 - accuracy: 0.9583 - val_loss: 0.4043 - val_accuracy: 0.8333\n",
            "Epoch 60/100\n",
            "10/10 [==============================] - 0s 12ms/step - loss: 0.3061 - accuracy: 0.9271 - val_loss: 0.3467 - val_accuracy: 0.9583\n",
            "Epoch 61/100\n",
            "10/10 [==============================] - 0s 10ms/step - loss: 0.2985 - accuracy: 0.9583 - val_loss: 0.4208 - val_accuracy: 0.7917\n",
            "Epoch 62/100\n",
            "10/10 [==============================] - 0s 10ms/step - loss: 0.2910 - accuracy: 0.9271 - val_loss: 0.3143 - val_accuracy: 1.0000\n",
            "Epoch 63/100\n",
            "10/10 [==============================] - 0s 10ms/step - loss: 0.2915 - accuracy: 0.9583 - val_loss: 0.3563 - val_accuracy: 0.9583\n",
            "Epoch 64/100\n",
            "10/10 [==============================] - 0s 10ms/step - loss: 0.2862 - accuracy: 0.9583 - val_loss: 0.3070 - val_accuracy: 1.0000\n",
            "Epoch 65/100\n",
            "10/10 [==============================] - 0s 11ms/step - loss: 0.2901 - accuracy: 0.9375 - val_loss: 0.3187 - val_accuracy: 0.9583\n",
            "Epoch 66/100\n",
            "10/10 [==============================] - 0s 12ms/step - loss: 0.2844 - accuracy: 0.9583 - val_loss: 0.3414 - val_accuracy: 0.9583\n",
            "Epoch 67/100\n",
            "10/10 [==============================] - 0s 10ms/step - loss: 0.2837 - accuracy: 0.9479 - val_loss: 0.3567 - val_accuracy: 0.9583\n",
            "Epoch 68/100\n",
            "10/10 [==============================] - 0s 10ms/step - loss: 0.2790 - accuracy: 0.9375 - val_loss: 0.3821 - val_accuracy: 0.8750\n",
            "Epoch 69/100\n",
            "10/10 [==============================] - 0s 13ms/step - loss: 0.2818 - accuracy: 0.9583 - val_loss: 0.3200 - val_accuracy: 0.9583\n",
            "Epoch 70/100\n",
            "10/10 [==============================] - 0s 10ms/step - loss: 0.2805 - accuracy: 0.9688 - val_loss: 0.3175 - val_accuracy: 0.9583\n",
            "Epoch 71/100\n",
            "10/10 [==============================] - 0s 7ms/step - loss: 0.2706 - accuracy: 0.9583 - val_loss: 0.2908 - val_accuracy: 1.0000\n",
            "Epoch 72/100\n",
            "10/10 [==============================] - 0s 8ms/step - loss: 0.2753 - accuracy: 0.9375 - val_loss: 0.2875 - val_accuracy: 1.0000\n",
            "Epoch 73/100\n",
            "10/10 [==============================] - 0s 7ms/step - loss: 0.2723 - accuracy: 0.9583 - val_loss: 0.2918 - val_accuracy: 0.9583\n",
            "Epoch 74/100\n",
            "10/10 [==============================] - 0s 8ms/step - loss: 0.2737 - accuracy: 0.9583 - val_loss: 0.2960 - val_accuracy: 0.9583\n",
            "Epoch 75/100\n",
            "10/10 [==============================] - 0s 7ms/step - loss: 0.2672 - accuracy: 0.9479 - val_loss: 0.3081 - val_accuracy: 0.9583\n",
            "Epoch 76/100\n",
            "10/10 [==============================] - 0s 8ms/step - loss: 0.2599 - accuracy: 0.9688 - val_loss: 0.3157 - val_accuracy: 0.9583\n",
            "Epoch 77/100\n",
            "10/10 [==============================] - 0s 8ms/step - loss: 0.2596 - accuracy: 0.9479 - val_loss: 0.3272 - val_accuracy: 0.9583\n",
            "Epoch 78/100\n",
            "10/10 [==============================] - 0s 8ms/step - loss: 0.2642 - accuracy: 0.9688 - val_loss: 0.2821 - val_accuracy: 0.9583\n",
            "Epoch 79/100\n",
            "10/10 [==============================] - 0s 8ms/step - loss: 0.2537 - accuracy: 0.9583 - val_loss: 0.2991 - val_accuracy: 0.9583\n",
            "Epoch 80/100\n",
            "10/10 [==============================] - 0s 6ms/step - loss: 0.2537 - accuracy: 0.9583 - val_loss: 0.2889 - val_accuracy: 0.9583\n",
            "Epoch 81/100\n",
            "10/10 [==============================] - 0s 8ms/step - loss: 0.2522 - accuracy: 0.9583 - val_loss: 0.2992 - val_accuracy: 0.9583\n",
            "Epoch 82/100\n",
            "10/10 [==============================] - 0s 7ms/step - loss: 0.2553 - accuracy: 0.9375 - val_loss: 0.2873 - val_accuracy: 0.9583\n",
            "Epoch 83/100\n",
            "10/10 [==============================] - 0s 7ms/step - loss: 0.2446 - accuracy: 0.9583 - val_loss: 0.3438 - val_accuracy: 0.9167\n",
            "Epoch 84/100\n",
            "10/10 [==============================] - 0s 6ms/step - loss: 0.2524 - accuracy: 0.9375 - val_loss: 0.2885 - val_accuracy: 0.9583\n",
            "Epoch 85/100\n",
            "10/10 [==============================] - 0s 8ms/step - loss: 0.2391 - accuracy: 0.9688 - val_loss: 0.3305 - val_accuracy: 0.9583\n",
            "Epoch 86/100\n",
            "10/10 [==============================] - 0s 7ms/step - loss: 0.2410 - accuracy: 0.9583 - val_loss: 0.2813 - val_accuracy: 0.9583\n",
            "Epoch 87/100\n",
            "10/10 [==============================] - 0s 7ms/step - loss: 0.2420 - accuracy: 0.9583 - val_loss: 0.2658 - val_accuracy: 0.9583\n",
            "Epoch 88/100\n",
            "10/10 [==============================] - 0s 8ms/step - loss: 0.2393 - accuracy: 0.9688 - val_loss: 0.2692 - val_accuracy: 0.9583\n",
            "Epoch 89/100\n",
            "10/10 [==============================] - 0s 7ms/step - loss: 0.2331 - accuracy: 0.9688 - val_loss: 0.2924 - val_accuracy: 0.9583\n",
            "Epoch 90/100\n",
            "10/10 [==============================] - 0s 8ms/step - loss: 0.2355 - accuracy: 0.9479 - val_loss: 0.2954 - val_accuracy: 0.9583\n",
            "Epoch 91/100\n",
            "10/10 [==============================] - 0s 8ms/step - loss: 0.2309 - accuracy: 0.9479 - val_loss: 0.2543 - val_accuracy: 0.9583\n",
            "Epoch 92/100\n",
            "10/10 [==============================] - 0s 8ms/step - loss: 0.2326 - accuracy: 0.9583 - val_loss: 0.2617 - val_accuracy: 0.9583\n",
            "Epoch 93/100\n",
            "10/10 [==============================] - 0s 8ms/step - loss: 0.2289 - accuracy: 0.9688 - val_loss: 0.2354 - val_accuracy: 1.0000\n",
            "Epoch 94/100\n",
            "10/10 [==============================] - 0s 6ms/step - loss: 0.2337 - accuracy: 0.9688 - val_loss: 0.2246 - val_accuracy: 1.0000\n",
            "Epoch 95/100\n",
            "10/10 [==============================] - 0s 8ms/step - loss: 0.2315 - accuracy: 0.9583 - val_loss: 0.2322 - val_accuracy: 1.0000\n",
            "Epoch 96/100\n",
            "10/10 [==============================] - 0s 8ms/step - loss: 0.2214 - accuracy: 0.9583 - val_loss: 0.2704 - val_accuracy: 0.9583\n",
            "Epoch 97/100\n",
            "10/10 [==============================] - 0s 7ms/step - loss: 0.2210 - accuracy: 0.9583 - val_loss: 0.2361 - val_accuracy: 0.9583\n",
            "Epoch 98/100\n",
            "10/10 [==============================] - 0s 7ms/step - loss: 0.2200 - accuracy: 0.9583 - val_loss: 0.2445 - val_accuracy: 0.9583\n",
            "Epoch 99/100\n",
            "10/10 [==============================] - 0s 7ms/step - loss: 0.2174 - accuracy: 0.9792 - val_loss: 0.2202 - val_accuracy: 1.0000\n",
            "Epoch 100/100\n",
            "10/10 [==============================] - 0s 9ms/step - loss: 0.2209 - accuracy: 0.9688 - val_loss: 0.2104 - val_accuracy: 1.0000\n"
          ]
        },
        {
          "output_type": "execute_result",
          "data": {
            "text/plain": [
              "<keras.callbacks.History at 0x7fa7c28e4730>"
            ]
          },
          "metadata": {},
          "execution_count": 40
        }
      ]
    },
    {
      "cell_type": "code",
      "source": [
        "y_pred = model.predict(X_test)\n",
        "y_test_class = np.argmax(y_test, axis=1)\n",
        "y_pred_class = np.argmax(y_pred, axis=1)\n",
        "\n",
        "print(y_test_class)\n",
        "print(y_pred_class)"
      ],
      "metadata": {
        "colab": {
          "base_uri": "https://localhost:8080/"
        },
        "id": "QQd2_NEPuoQu",
        "outputId": "e9bafd83-22dd-47e8-9db2-c1bdcde7dde2"
      },
      "execution_count": null,
      "outputs": [
        {
          "output_type": "stream",
          "name": "stdout",
          "text": [
            "1/1 [==============================] - 0s 45ms/step\n",
            "[1 0 2 1 1 0 1 2 1 1 2 0 0 0 0 1 2 1 1 2 0 2 0 2 2 2 2 2 0 0]\n",
            "[1 0 2 1 1 0 1 2 2 1 2 0 0 0 0 1 2 1 1 2 0 2 0 2 2 2 2 2 0 0]\n"
          ]
        }
      ]
    },
    {
      "cell_type": "code",
      "source": [
        "op = model.predict([[0.1, 0.5, 0.4, 5.2]])\n",
        "print(np.argmax(op, axis=1))"
      ],
      "metadata": {
        "colab": {
          "base_uri": "https://localhost:8080/"
        },
        "id": "ZipIJjhvDpwF",
        "outputId": "23d172e8-02ce-4f36-8dbc-5e0a149416c1"
      },
      "execution_count": null,
      "outputs": [
        {
          "output_type": "stream",
          "name": "stdout",
          "text": [
            "1/1 [==============================] - 0s 72ms/step\n",
            "[2]\n"
          ]
        }
      ]
    },
    {
      "cell_type": "code",
      "source": [
        "from sklearn.metrics import classification_report, confusion_matrix\n",
        "print(classification_report(y_test_class, y_pred_class))\n",
        "print(confusion_matrix(y_test_class, y_pred_class))"
      ],
      "metadata": {
        "colab": {
          "base_uri": "https://localhost:8080/"
        },
        "id": "b3XmLja4uoTE",
        "outputId": "462b3402-f2a0-4934-faea-2126e104ff5a"
      },
      "execution_count": null,
      "outputs": [
        {
          "output_type": "stream",
          "name": "stdout",
          "text": [
            "              precision    recall  f1-score   support\n",
            "\n",
            "           0       1.00      1.00      1.00        10\n",
            "           1       1.00      0.89      0.94         9\n",
            "           2       0.92      1.00      0.96        11\n",
            "\n",
            "    accuracy                           0.97        30\n",
            "   macro avg       0.97      0.96      0.97        30\n",
            "weighted avg       0.97      0.97      0.97        30\n",
            "\n",
            "[[10  0  0]\n",
            " [ 0  8  1]\n",
            " [ 0  0 11]]\n"
          ]
        }
      ]
    }
  ]
}