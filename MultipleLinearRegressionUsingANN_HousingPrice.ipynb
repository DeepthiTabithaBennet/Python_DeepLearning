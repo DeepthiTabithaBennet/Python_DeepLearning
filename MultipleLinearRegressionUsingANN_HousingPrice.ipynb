{
  "nbformat": 4,
  "nbformat_minor": 0,
  "metadata": {
    "colab": {
      "provenance": [],
      "authorship_tag": "ABX9TyOczjKRn9VISDoUskL+Z68U",
      "include_colab_link": true
    },
    "kernelspec": {
      "name": "python3",
      "display_name": "Python 3"
    },
    "language_info": {
      "name": "python"
    }
  },
  "cells": [
    {
      "cell_type": "markdown",
      "metadata": {
        "id": "view-in-github",
        "colab_type": "text"
      },
      "source": [
        "<a href=\"https://colab.research.google.com/github/DeepthiTabithaBennet/Python_DeepLearning/blob/main/MultipleLinearRegressionUsingANN_HousingPrice.ipynb\" target=\"_parent\"><img src=\"https://colab.research.google.com/assets/colab-badge.svg\" alt=\"Open In Colab\"/></a>"
      ]
    },
    {
      "cell_type": "markdown",
      "source": [
        "# **Housing Price Prediction Using ANN**"
      ],
      "metadata": {
        "id": "Ow3mHdjam-9Y"
      }
    },
    {
      "cell_type": "code",
      "execution_count": null,
      "metadata": {
        "id": "kFdMrXswefFE"
      },
      "outputs": [],
      "source": [
        "# SOURCE - https://www.analyticsvidhya.com/blog/2021/08/a-walk-through-of-regression-analysis-using-artificial-neural-networks-in-tensorflow/\n",
        "\n",
        "import math\n",
        "import pandas as pd\n",
        "import tensorflow as tf\n",
        "import matplotlib.pyplot as plt\n",
        "from tensorflow.keras import Model\n",
        "from tensorflow.keras import Sequential\n",
        "from tensorflow.keras.optimizers import Adam\n",
        "from sklearn.preprocessing import StandardScaler\n",
        "from tensorflow.keras.layers import Dense, Dropout\n",
        "from sklearn.model_selection import train_test_split\n",
        "from tensorflow.keras.losses import MeanSquaredLogarithmicError\n",
        "from sklearn.metrics import r2_score"
      ]
    },
    {
      "cell_type": "code",
      "source": [
        "# Training Data\n",
        "TRAIN_DATA_PATH = '/content/sample_data/california_housing_train.csv'\n",
        "train_data = pd.read_csv(TRAIN_DATA_PATH)\n",
        "\n",
        "# Testing Data\n",
        "TEST_DATA_PATH = '/content/sample_data/california_housing_test.csv'\n",
        "test_data = pd.read_csv(TEST_DATA_PATH)\n",
        "\n",
        "# Target Variable\n",
        "TARGET_NAME = 'median_house_value'"
      ],
      "metadata": {
        "id": "b_VPWSjLRpxL"
      },
      "execution_count": null,
      "outputs": []
    },
    {
      "cell_type": "code",
      "source": [
        "x_train = train_data.drop(TARGET_NAME, axis=1)\n",
        "y_train = train_data[TARGET_NAME]\n",
        "\n",
        "x_test = test_data.drop(TARGET_NAME, axis=1)\n",
        "y_test =  test_data[TARGET_NAME]"
      ],
      "metadata": {
        "id": "HpMb_1iReh7i"
      },
      "execution_count": null,
      "outputs": []
    },
    {
      "cell_type": "code",
      "source": [
        "x_train.head()"
      ],
      "metadata": {
        "colab": {
          "base_uri": "https://localhost:8080/",
          "height": 206
        },
        "id": "Lq81XMXygjWS",
        "outputId": "0d3303e6-0a09-477f-d275-e97a45a73579"
      },
      "execution_count": null,
      "outputs": [
        {
          "output_type": "execute_result",
          "data": {
            "text/plain": [
              "   longitude  latitude  housing_median_age  total_rooms  total_bedrooms  \\\n",
              "0    -114.31     34.19                15.0       5612.0          1283.0   \n",
              "1    -114.47     34.40                19.0       7650.0          1901.0   \n",
              "2    -114.56     33.69                17.0        720.0           174.0   \n",
              "3    -114.57     33.64                14.0       1501.0           337.0   \n",
              "4    -114.57     33.57                20.0       1454.0           326.0   \n",
              "\n",
              "   population  households  median_income  \n",
              "0      1015.0       472.0         1.4936  \n",
              "1      1129.0       463.0         1.8200  \n",
              "2       333.0       117.0         1.6509  \n",
              "3       515.0       226.0         3.1917  \n",
              "4       624.0       262.0         1.9250  "
            ],
            "text/html": [
              "\n",
              "  <div id=\"df-51324da0-28de-4920-affb-35c72df71b63\">\n",
              "    <div class=\"colab-df-container\">\n",
              "      <div>\n",
              "<style scoped>\n",
              "    .dataframe tbody tr th:only-of-type {\n",
              "        vertical-align: middle;\n",
              "    }\n",
              "\n",
              "    .dataframe tbody tr th {\n",
              "        vertical-align: top;\n",
              "    }\n",
              "\n",
              "    .dataframe thead th {\n",
              "        text-align: right;\n",
              "    }\n",
              "</style>\n",
              "<table border=\"1\" class=\"dataframe\">\n",
              "  <thead>\n",
              "    <tr style=\"text-align: right;\">\n",
              "      <th></th>\n",
              "      <th>longitude</th>\n",
              "      <th>latitude</th>\n",
              "      <th>housing_median_age</th>\n",
              "      <th>total_rooms</th>\n",
              "      <th>total_bedrooms</th>\n",
              "      <th>population</th>\n",
              "      <th>households</th>\n",
              "      <th>median_income</th>\n",
              "    </tr>\n",
              "  </thead>\n",
              "  <tbody>\n",
              "    <tr>\n",
              "      <th>0</th>\n",
              "      <td>-114.31</td>\n",
              "      <td>34.19</td>\n",
              "      <td>15.0</td>\n",
              "      <td>5612.0</td>\n",
              "      <td>1283.0</td>\n",
              "      <td>1015.0</td>\n",
              "      <td>472.0</td>\n",
              "      <td>1.4936</td>\n",
              "    </tr>\n",
              "    <tr>\n",
              "      <th>1</th>\n",
              "      <td>-114.47</td>\n",
              "      <td>34.40</td>\n",
              "      <td>19.0</td>\n",
              "      <td>7650.0</td>\n",
              "      <td>1901.0</td>\n",
              "      <td>1129.0</td>\n",
              "      <td>463.0</td>\n",
              "      <td>1.8200</td>\n",
              "    </tr>\n",
              "    <tr>\n",
              "      <th>2</th>\n",
              "      <td>-114.56</td>\n",
              "      <td>33.69</td>\n",
              "      <td>17.0</td>\n",
              "      <td>720.0</td>\n",
              "      <td>174.0</td>\n",
              "      <td>333.0</td>\n",
              "      <td>117.0</td>\n",
              "      <td>1.6509</td>\n",
              "    </tr>\n",
              "    <tr>\n",
              "      <th>3</th>\n",
              "      <td>-114.57</td>\n",
              "      <td>33.64</td>\n",
              "      <td>14.0</td>\n",
              "      <td>1501.0</td>\n",
              "      <td>337.0</td>\n",
              "      <td>515.0</td>\n",
              "      <td>226.0</td>\n",
              "      <td>3.1917</td>\n",
              "    </tr>\n",
              "    <tr>\n",
              "      <th>4</th>\n",
              "      <td>-114.57</td>\n",
              "      <td>33.57</td>\n",
              "      <td>20.0</td>\n",
              "      <td>1454.0</td>\n",
              "      <td>326.0</td>\n",
              "      <td>624.0</td>\n",
              "      <td>262.0</td>\n",
              "      <td>1.9250</td>\n",
              "    </tr>\n",
              "  </tbody>\n",
              "</table>\n",
              "</div>\n",
              "      <button class=\"colab-df-convert\" onclick=\"convertToInteractive('df-51324da0-28de-4920-affb-35c72df71b63')\"\n",
              "              title=\"Convert this dataframe to an interactive table.\"\n",
              "              style=\"display:none;\">\n",
              "        \n",
              "  <svg xmlns=\"http://www.w3.org/2000/svg\" height=\"24px\"viewBox=\"0 0 24 24\"\n",
              "       width=\"24px\">\n",
              "    <path d=\"M0 0h24v24H0V0z\" fill=\"none\"/>\n",
              "    <path d=\"M18.56 5.44l.94 2.06.94-2.06 2.06-.94-2.06-.94-.94-2.06-.94 2.06-2.06.94zm-11 1L8.5 8.5l.94-2.06 2.06-.94-2.06-.94L8.5 2.5l-.94 2.06-2.06.94zm10 10l.94 2.06.94-2.06 2.06-.94-2.06-.94-.94-2.06-.94 2.06-2.06.94z\"/><path d=\"M17.41 7.96l-1.37-1.37c-.4-.4-.92-.59-1.43-.59-.52 0-1.04.2-1.43.59L10.3 9.45l-7.72 7.72c-.78.78-.78 2.05 0 2.83L4 21.41c.39.39.9.59 1.41.59.51 0 1.02-.2 1.41-.59l7.78-7.78 2.81-2.81c.8-.78.8-2.07 0-2.86zM5.41 20L4 18.59l7.72-7.72 1.47 1.35L5.41 20z\"/>\n",
              "  </svg>\n",
              "      </button>\n",
              "      \n",
              "  <style>\n",
              "    .colab-df-container {\n",
              "      display:flex;\n",
              "      flex-wrap:wrap;\n",
              "      gap: 12px;\n",
              "    }\n",
              "\n",
              "    .colab-df-convert {\n",
              "      background-color: #E8F0FE;\n",
              "      border: none;\n",
              "      border-radius: 50%;\n",
              "      cursor: pointer;\n",
              "      display: none;\n",
              "      fill: #1967D2;\n",
              "      height: 32px;\n",
              "      padding: 0 0 0 0;\n",
              "      width: 32px;\n",
              "    }\n",
              "\n",
              "    .colab-df-convert:hover {\n",
              "      background-color: #E2EBFA;\n",
              "      box-shadow: 0px 1px 2px rgba(60, 64, 67, 0.3), 0px 1px 3px 1px rgba(60, 64, 67, 0.15);\n",
              "      fill: #174EA6;\n",
              "    }\n",
              "\n",
              "    [theme=dark] .colab-df-convert {\n",
              "      background-color: #3B4455;\n",
              "      fill: #D2E3FC;\n",
              "    }\n",
              "\n",
              "    [theme=dark] .colab-df-convert:hover {\n",
              "      background-color: #434B5C;\n",
              "      box-shadow: 0px 1px 3px 1px rgba(0, 0, 0, 0.15);\n",
              "      filter: drop-shadow(0px 1px 2px rgba(0, 0, 0, 0.3));\n",
              "      fill: #FFFFFF;\n",
              "    }\n",
              "  </style>\n",
              "\n",
              "      <script>\n",
              "        const buttonEl =\n",
              "          document.querySelector('#df-51324da0-28de-4920-affb-35c72df71b63 button.colab-df-convert');\n",
              "        buttonEl.style.display =\n",
              "          google.colab.kernel.accessAllowed ? 'block' : 'none';\n",
              "\n",
              "        async function convertToInteractive(key) {\n",
              "          const element = document.querySelector('#df-51324da0-28de-4920-affb-35c72df71b63');\n",
              "          const dataTable =\n",
              "            await google.colab.kernel.invokeFunction('convertToInteractive',\n",
              "                                                     [key], {});\n",
              "          if (!dataTable) return;\n",
              "\n",
              "          const docLinkHtml = 'Like what you see? Visit the ' +\n",
              "            '<a target=\"_blank\" href=https://colab.research.google.com/notebooks/data_table.ipynb>data table notebook</a>'\n",
              "            + ' to learn more about interactive tables.';\n",
              "          element.innerHTML = '';\n",
              "          dataTable['output_type'] = 'display_data';\n",
              "          await google.colab.output.renderOutput(dataTable, element);\n",
              "          const docLink = document.createElement('div');\n",
              "          docLink.innerHTML = docLinkHtml;\n",
              "          element.appendChild(docLink);\n",
              "        }\n",
              "      </script>\n",
              "    </div>\n",
              "  </div>\n",
              "  "
            ]
          },
          "metadata": {},
          "execution_count": 18
        }
      ]
    },
    {
      "cell_type": "code",
      "source": [
        "y_train.head()"
      ],
      "metadata": {
        "colab": {
          "base_uri": "https://localhost:8080/"
        },
        "id": "Lir_m3FAT18G",
        "outputId": "5ad71753-ec6d-4a76-a03e-d7f8adb8dc75"
      },
      "execution_count": null,
      "outputs": [
        {
          "output_type": "execute_result",
          "data": {
            "text/plain": [
              "0    66900.0\n",
              "1    80100.0\n",
              "2    85700.0\n",
              "3    73400.0\n",
              "4    65500.0\n",
              "Name: median_house_value, dtype: float64"
            ]
          },
          "metadata": {},
          "execution_count": 19
        }
      ]
    },
    {
      "cell_type": "code",
      "source": [
        "y_train.unique()"
      ],
      "metadata": {
        "colab": {
          "base_uri": "https://localhost:8080/"
        },
        "id": "bdXGN5g_IXde",
        "outputId": "9a7dfd58-5760-4213-cf35-cb680715faee"
      },
      "execution_count": null,
      "outputs": [
        {
          "output_type": "execute_result",
          "data": {
            "text/plain": [
              "array([ 66900.,  80100.,  85700., ..., 119700.,  75100.,  80500.])"
            ]
          },
          "metadata": {},
          "execution_count": 20
        }
      ]
    },
    {
      "cell_type": "code",
      "source": [
        "learning_rate = 0.001\n",
        "\n",
        "# Creating model using the Sequential in tensorflow\n",
        "def build_model_using_sequential():\n",
        "    model = Sequential([\n",
        "        Dense(160, kernel_initializer='normal', activation='relu'),\n",
        "        Dropout(0.2),\n",
        "        Dense(480, kernel_initializer='normal', activation='relu'),\n",
        "        Dropout(0.2),\n",
        "        Dense(256, kernel_initializer='normal', activation='relu'),\n",
        "        Dense(1, kernel_initializer='normal', activation='linear')\n",
        "    ])\n",
        "    return model\n",
        "\n",
        "# build the model\n",
        "model = build_model_using_sequential()"
      ],
      "metadata": {
        "id": "d05XO0xnek0h"
      },
      "execution_count": null,
      "outputs": []
    },
    {
      "cell_type": "code",
      "source": [
        "# loss function\n",
        "msle = MeanSquaredLogarithmicError()\n",
        "model.compile(\n",
        "    loss=msle,\n",
        "    optimizer=Adam(learning_rate=learning_rate),\n",
        "    metrics=[msle]\n",
        ")\n",
        "# train the model\n",
        "history = model.fit(\n",
        "    x_train.values,\n",
        "    y_train.values,\n",
        "    epochs = 100,\n",
        "    batch_size = 64,\n",
        "    validation_split = 0.2\n",
        ")"
      ],
      "metadata": {
        "colab": {
          "base_uri": "https://localhost:8080/"
        },
        "id": "pco-3oheeqYS",
        "outputId": "cf8e6011-1051-4f87-bd45-8821d162a1b9"
      },
      "execution_count": null,
      "outputs": [
        {
          "output_type": "stream",
          "name": "stdout",
          "text": [
            "Epoch 1/100\n",
            "213/213 [==============================] - 4s 12ms/step - loss: 0.1009 - mean_squared_logarithmic_error: 0.1009 - val_loss: 0.2488 - val_mean_squared_logarithmic_error: 0.2466\n",
            "Epoch 2/100\n",
            "213/213 [==============================] - 2s 7ms/step - loss: 0.1012 - mean_squared_logarithmic_error: 0.1012 - val_loss: 0.1612 - val_mean_squared_logarithmic_error: 0.1600\n",
            "Epoch 3/100\n",
            "213/213 [==============================] - 2s 7ms/step - loss: 0.1011 - mean_squared_logarithmic_error: 0.1010 - val_loss: 0.1665 - val_mean_squared_logarithmic_error: 0.1654\n",
            "Epoch 4/100\n",
            "213/213 [==============================] - 2s 8ms/step - loss: 0.1033 - mean_squared_logarithmic_error: 0.1033 - val_loss: 0.1839 - val_mean_squared_logarithmic_error: 0.1826\n",
            "Epoch 5/100\n",
            "213/213 [==============================] - 2s 7ms/step - loss: 0.1007 - mean_squared_logarithmic_error: 0.1007 - val_loss: 0.1540 - val_mean_squared_logarithmic_error: 0.1528\n",
            "Epoch 6/100\n",
            "213/213 [==============================] - 2s 8ms/step - loss: 0.1025 - mean_squared_logarithmic_error: 0.1024 - val_loss: 0.1725 - val_mean_squared_logarithmic_error: 0.1716\n",
            "Epoch 7/100\n",
            "213/213 [==============================] - 2s 8ms/step - loss: 0.1020 - mean_squared_logarithmic_error: 0.1020 - val_loss: 0.1610 - val_mean_squared_logarithmic_error: 0.1602\n",
            "Epoch 8/100\n",
            "213/213 [==============================] - 3s 13ms/step - loss: 0.1022 - mean_squared_logarithmic_error: 0.1023 - val_loss: 0.1865 - val_mean_squared_logarithmic_error: 0.1847\n",
            "Epoch 9/100\n",
            "213/213 [==============================] - 2s 8ms/step - loss: 0.1023 - mean_squared_logarithmic_error: 0.1023 - val_loss: 0.2384 - val_mean_squared_logarithmic_error: 0.2358\n",
            "Epoch 10/100\n",
            "213/213 [==============================] - 2s 8ms/step - loss: 0.1016 - mean_squared_logarithmic_error: 0.1016 - val_loss: 0.1230 - val_mean_squared_logarithmic_error: 0.1223\n",
            "Epoch 11/100\n",
            "213/213 [==============================] - 2s 8ms/step - loss: 0.1001 - mean_squared_logarithmic_error: 0.1001 - val_loss: 0.1381 - val_mean_squared_logarithmic_error: 0.1371\n",
            "Epoch 12/100\n",
            "213/213 [==============================] - 2s 7ms/step - loss: 0.1003 - mean_squared_logarithmic_error: 0.1003 - val_loss: 0.1322 - val_mean_squared_logarithmic_error: 0.1312\n",
            "Epoch 13/100\n",
            "213/213 [==============================] - 2s 7ms/step - loss: 0.1007 - mean_squared_logarithmic_error: 0.1006 - val_loss: 0.1187 - val_mean_squared_logarithmic_error: 0.1178\n",
            "Epoch 14/100\n",
            "213/213 [==============================] - 2s 7ms/step - loss: 0.1008 - mean_squared_logarithmic_error: 0.1011 - val_loss: 0.1741 - val_mean_squared_logarithmic_error: 0.1728\n",
            "Epoch 15/100\n",
            "213/213 [==============================] - 2s 11ms/step - loss: 0.1007 - mean_squared_logarithmic_error: 0.1007 - val_loss: 0.1644 - val_mean_squared_logarithmic_error: 0.1629\n",
            "Epoch 16/100\n",
            "213/213 [==============================] - 2s 9ms/step - loss: 0.0998 - mean_squared_logarithmic_error: 0.0998 - val_loss: 0.1487 - val_mean_squared_logarithmic_error: 0.1479\n",
            "Epoch 17/100\n",
            "213/213 [==============================] - 2s 8ms/step - loss: 0.1003 - mean_squared_logarithmic_error: 0.1003 - val_loss: 0.2027 - val_mean_squared_logarithmic_error: 0.2005\n",
            "Epoch 18/100\n",
            "213/213 [==============================] - 2s 8ms/step - loss: 0.1007 - mean_squared_logarithmic_error: 0.1007 - val_loss: 0.1833 - val_mean_squared_logarithmic_error: 0.1819\n",
            "Epoch 19/100\n",
            "213/213 [==============================] - 2s 7ms/step - loss: 0.0999 - mean_squared_logarithmic_error: 0.1000 - val_loss: 0.2238 - val_mean_squared_logarithmic_error: 0.2218\n",
            "Epoch 20/100\n",
            "213/213 [==============================] - 2s 7ms/step - loss: 0.0989 - mean_squared_logarithmic_error: 0.0989 - val_loss: 0.1331 - val_mean_squared_logarithmic_error: 0.1322\n",
            "Epoch 21/100\n",
            "213/213 [==============================] - 2s 7ms/step - loss: 0.0996 - mean_squared_logarithmic_error: 0.0995 - val_loss: 0.1727 - val_mean_squared_logarithmic_error: 0.1715\n",
            "Epoch 22/100\n",
            "213/213 [==============================] - 2s 10ms/step - loss: 0.1000 - mean_squared_logarithmic_error: 0.0999 - val_loss: 0.1695 - val_mean_squared_logarithmic_error: 0.1681\n",
            "Epoch 23/100\n",
            "213/213 [==============================] - 2s 10ms/step - loss: 0.1025 - mean_squared_logarithmic_error: 0.1024 - val_loss: 0.1460 - val_mean_squared_logarithmic_error: 0.1449\n",
            "Epoch 24/100\n",
            "213/213 [==============================] - 2s 8ms/step - loss: 0.1014 - mean_squared_logarithmic_error: 0.1014 - val_loss: 0.1941 - val_mean_squared_logarithmic_error: 0.1921\n",
            "Epoch 25/100\n",
            "213/213 [==============================] - 2s 8ms/step - loss: 0.1002 - mean_squared_logarithmic_error: 0.1001 - val_loss: 0.1740 - val_mean_squared_logarithmic_error: 0.1725\n",
            "Epoch 26/100\n",
            "213/213 [==============================] - 2s 8ms/step - loss: 0.0996 - mean_squared_logarithmic_error: 0.0996 - val_loss: 0.1651 - val_mean_squared_logarithmic_error: 0.1635\n",
            "Epoch 27/100\n",
            "213/213 [==============================] - 2s 8ms/step - loss: 0.1008 - mean_squared_logarithmic_error: 0.1009 - val_loss: 0.1736 - val_mean_squared_logarithmic_error: 0.1722\n",
            "Epoch 28/100\n",
            "213/213 [==============================] - 2s 8ms/step - loss: 0.1013 - mean_squared_logarithmic_error: 0.1014 - val_loss: 0.1252 - val_mean_squared_logarithmic_error: 0.1244\n",
            "Epoch 29/100\n",
            "213/213 [==============================] - 2s 11ms/step - loss: 0.1001 - mean_squared_logarithmic_error: 0.1000 - val_loss: 0.1286 - val_mean_squared_logarithmic_error: 0.1278\n",
            "Epoch 30/100\n",
            "213/213 [==============================] - 2s 10ms/step - loss: 0.1022 - mean_squared_logarithmic_error: 0.1021 - val_loss: 0.1850 - val_mean_squared_logarithmic_error: 0.1839\n",
            "Epoch 31/100\n",
            "213/213 [==============================] - 2s 7ms/step - loss: 0.1007 - mean_squared_logarithmic_error: 0.1007 - val_loss: 0.1522 - val_mean_squared_logarithmic_error: 0.1509\n",
            "Epoch 32/100\n",
            "213/213 [==============================] - 2s 7ms/step - loss: 0.1005 - mean_squared_logarithmic_error: 0.1009 - val_loss: 0.1669 - val_mean_squared_logarithmic_error: 0.1653\n",
            "Epoch 33/100\n",
            "213/213 [==============================] - 2s 8ms/step - loss: 0.1026 - mean_squared_logarithmic_error: 0.1026 - val_loss: 0.1647 - val_mean_squared_logarithmic_error: 0.1635\n",
            "Epoch 34/100\n",
            "213/213 [==============================] - 2s 8ms/step - loss: 0.1011 - mean_squared_logarithmic_error: 0.1011 - val_loss: 0.1737 - val_mean_squared_logarithmic_error: 0.1720\n",
            "Epoch 35/100\n",
            "213/213 [==============================] - 2s 7ms/step - loss: 0.1110 - mean_squared_logarithmic_error: 0.1109 - val_loss: 0.1949 - val_mean_squared_logarithmic_error: 0.1930\n",
            "Epoch 36/100\n",
            "213/213 [==============================] - 2s 9ms/step - loss: 0.1023 - mean_squared_logarithmic_error: 0.1023 - val_loss: 0.1311 - val_mean_squared_logarithmic_error: 0.1301\n",
            "Epoch 37/100\n",
            "213/213 [==============================] - 3s 12ms/step - loss: 0.1000 - mean_squared_logarithmic_error: 0.1001 - val_loss: 0.1362 - val_mean_squared_logarithmic_error: 0.1352\n",
            "Epoch 38/100\n",
            "213/213 [==============================] - 2s 7ms/step - loss: 0.0984 - mean_squared_logarithmic_error: 0.0984 - val_loss: 0.1358 - val_mean_squared_logarithmic_error: 0.1349\n",
            "Epoch 39/100\n",
            "213/213 [==============================] - 2s 8ms/step - loss: 0.0989 - mean_squared_logarithmic_error: 0.0988 - val_loss: 0.1317 - val_mean_squared_logarithmic_error: 0.1308\n",
            "Epoch 40/100\n",
            "213/213 [==============================] - 2s 8ms/step - loss: 0.0999 - mean_squared_logarithmic_error: 0.0999 - val_loss: 0.1825 - val_mean_squared_logarithmic_error: 0.1808\n",
            "Epoch 41/100\n",
            "213/213 [==============================] - 2s 8ms/step - loss: 0.1028 - mean_squared_logarithmic_error: 0.1028 - val_loss: 0.1478 - val_mean_squared_logarithmic_error: 0.1468\n",
            "Epoch 42/100\n",
            "213/213 [==============================] - 2s 8ms/step - loss: 0.0990 - mean_squared_logarithmic_error: 0.0991 - val_loss: 0.1898 - val_mean_squared_logarithmic_error: 0.1879\n",
            "Epoch 43/100\n",
            "213/213 [==============================] - 2s 9ms/step - loss: 0.1012 - mean_squared_logarithmic_error: 0.1012 - val_loss: 0.1298 - val_mean_squared_logarithmic_error: 0.1289\n",
            "Epoch 44/100\n",
            "213/213 [==============================] - 3s 12ms/step - loss: 0.0991 - mean_squared_logarithmic_error: 0.0991 - val_loss: 0.1740 - val_mean_squared_logarithmic_error: 0.1722\n",
            "Epoch 45/100\n",
            "213/213 [==============================] - 2s 7ms/step - loss: 0.1002 - mean_squared_logarithmic_error: 0.1002 - val_loss: 0.1223 - val_mean_squared_logarithmic_error: 0.1215\n",
            "Epoch 46/100\n",
            "213/213 [==============================] - 2s 8ms/step - loss: 0.0995 - mean_squared_logarithmic_error: 0.0995 - val_loss: 0.1360 - val_mean_squared_logarithmic_error: 0.1348\n",
            "Epoch 47/100\n",
            "213/213 [==============================] - 2s 7ms/step - loss: 0.0986 - mean_squared_logarithmic_error: 0.0987 - val_loss: 0.1465 - val_mean_squared_logarithmic_error: 0.1455\n",
            "Epoch 48/100\n",
            "213/213 [==============================] - 2s 8ms/step - loss: 0.1016 - mean_squared_logarithmic_error: 0.1017 - val_loss: 0.1428 - val_mean_squared_logarithmic_error: 0.1419\n",
            "Epoch 49/100\n",
            "213/213 [==============================] - 2s 7ms/step - loss: 0.1008 - mean_squared_logarithmic_error: 0.1008 - val_loss: 0.1684 - val_mean_squared_logarithmic_error: 0.1672\n",
            "Epoch 50/100\n",
            "213/213 [==============================] - 2s 7ms/step - loss: 0.1005 - mean_squared_logarithmic_error: 0.1004 - val_loss: 0.1468 - val_mean_squared_logarithmic_error: 0.1460\n",
            "Epoch 51/100\n",
            "213/213 [==============================] - 3s 13ms/step - loss: 0.0987 - mean_squared_logarithmic_error: 0.0988 - val_loss: 0.1751 - val_mean_squared_logarithmic_error: 0.1734\n",
            "Epoch 52/100\n",
            "213/213 [==============================] - 2s 8ms/step - loss: 0.1015 - mean_squared_logarithmic_error: 0.1014 - val_loss: 0.1696 - val_mean_squared_logarithmic_error: 0.1685\n",
            "Epoch 53/100\n",
            "213/213 [==============================] - 2s 8ms/step - loss: 0.0978 - mean_squared_logarithmic_error: 0.0978 - val_loss: 0.1632 - val_mean_squared_logarithmic_error: 0.1619\n",
            "Epoch 54/100\n",
            "213/213 [==============================] - 2s 8ms/step - loss: 0.0999 - mean_squared_logarithmic_error: 0.1002 - val_loss: 0.1490 - val_mean_squared_logarithmic_error: 0.1478\n",
            "Epoch 55/100\n",
            "213/213 [==============================] - 2s 8ms/step - loss: 0.0989 - mean_squared_logarithmic_error: 0.0988 - val_loss: 0.1655 - val_mean_squared_logarithmic_error: 0.1640\n",
            "Epoch 56/100\n",
            "213/213 [==============================] - 2s 8ms/step - loss: 0.1009 - mean_squared_logarithmic_error: 0.1010 - val_loss: 0.1723 - val_mean_squared_logarithmic_error: 0.1707\n",
            "Epoch 57/100\n",
            "213/213 [==============================] - 2s 7ms/step - loss: 0.0999 - mean_squared_logarithmic_error: 0.0999 - val_loss: 0.1597 - val_mean_squared_logarithmic_error: 0.1586\n",
            "Epoch 58/100\n",
            "213/213 [==============================] - 2s 11ms/step - loss: 0.1084 - mean_squared_logarithmic_error: 0.1083 - val_loss: 0.1808 - val_mean_squared_logarithmic_error: 0.1793\n",
            "Epoch 59/100\n",
            "213/213 [==============================] - 2s 9ms/step - loss: 0.0997 - mean_squared_logarithmic_error: 0.0998 - val_loss: 0.1327 - val_mean_squared_logarithmic_error: 0.1319\n",
            "Epoch 60/100\n",
            "213/213 [==============================] - 2s 8ms/step - loss: 0.1001 - mean_squared_logarithmic_error: 0.1000 - val_loss: 0.2087 - val_mean_squared_logarithmic_error: 0.2069\n",
            "Epoch 61/100\n",
            "213/213 [==============================] - 2s 8ms/step - loss: 0.0992 - mean_squared_logarithmic_error: 0.0991 - val_loss: 0.1602 - val_mean_squared_logarithmic_error: 0.1590\n",
            "Epoch 62/100\n",
            "213/213 [==============================] - 2s 8ms/step - loss: 0.0996 - mean_squared_logarithmic_error: 0.0996 - val_loss: 0.1533 - val_mean_squared_logarithmic_error: 0.1520\n",
            "Epoch 63/100\n",
            "213/213 [==============================] - 2s 8ms/step - loss: 0.1076 - mean_squared_logarithmic_error: 0.1076 - val_loss: 0.1737 - val_mean_squared_logarithmic_error: 0.1721\n",
            "Epoch 64/100\n",
            "213/213 [==============================] - 2s 7ms/step - loss: 0.0983 - mean_squared_logarithmic_error: 0.0981 - val_loss: 0.2068 - val_mean_squared_logarithmic_error: 0.2048\n",
            "Epoch 65/100\n",
            "213/213 [==============================] - 2s 12ms/step - loss: 0.0986 - mean_squared_logarithmic_error: 0.0986 - val_loss: 0.1710 - val_mean_squared_logarithmic_error: 0.1697\n",
            "Epoch 66/100\n",
            "213/213 [==============================] - 2s 9ms/step - loss: 0.0992 - mean_squared_logarithmic_error: 0.0994 - val_loss: 0.1464 - val_mean_squared_logarithmic_error: 0.1454\n",
            "Epoch 67/100\n",
            "213/213 [==============================] - 2s 8ms/step - loss: 0.0998 - mean_squared_logarithmic_error: 0.0999 - val_loss: 0.1602 - val_mean_squared_logarithmic_error: 0.1587\n",
            "Epoch 68/100\n",
            "213/213 [==============================] - 2s 8ms/step - loss: 0.0989 - mean_squared_logarithmic_error: 0.0989 - val_loss: 0.1627 - val_mean_squared_logarithmic_error: 0.1616\n",
            "Epoch 69/100\n",
            "213/213 [==============================] - 2s 8ms/step - loss: 0.0987 - mean_squared_logarithmic_error: 0.0987 - val_loss: 0.1591 - val_mean_squared_logarithmic_error: 0.1580\n",
            "Epoch 70/100\n",
            "213/213 [==============================] - 2s 8ms/step - loss: 0.0995 - mean_squared_logarithmic_error: 0.0995 - val_loss: 0.1227 - val_mean_squared_logarithmic_error: 0.1219\n",
            "Epoch 71/100\n",
            "213/213 [==============================] - 2s 8ms/step - loss: 0.1019 - mean_squared_logarithmic_error: 0.1020 - val_loss: 0.1486 - val_mean_squared_logarithmic_error: 0.1473\n",
            "Epoch 72/100\n",
            "213/213 [==============================] - 2s 11ms/step - loss: 0.1003 - mean_squared_logarithmic_error: 0.1002 - val_loss: 0.1624 - val_mean_squared_logarithmic_error: 0.1610\n",
            "Epoch 73/100\n",
            "213/213 [==============================] - 2s 10ms/step - loss: 0.0986 - mean_squared_logarithmic_error: 0.0986 - val_loss: 0.2496 - val_mean_squared_logarithmic_error: 0.2469\n",
            "Epoch 74/100\n",
            "213/213 [==============================] - 2s 8ms/step - loss: 0.1090 - mean_squared_logarithmic_error: 0.1089 - val_loss: 0.1812 - val_mean_squared_logarithmic_error: 0.1794\n",
            "Epoch 75/100\n",
            "213/213 [==============================] - 2s 8ms/step - loss: 0.0987 - mean_squared_logarithmic_error: 0.0987 - val_loss: 0.1394 - val_mean_squared_logarithmic_error: 0.1383\n",
            "Epoch 76/100\n",
            "213/213 [==============================] - 2s 7ms/step - loss: 0.0998 - mean_squared_logarithmic_error: 0.0997 - val_loss: 0.1569 - val_mean_squared_logarithmic_error: 0.1556\n",
            "Epoch 77/100\n",
            "213/213 [==============================] - 2s 8ms/step - loss: 0.0993 - mean_squared_logarithmic_error: 0.0993 - val_loss: 0.2026 - val_mean_squared_logarithmic_error: 0.2007\n",
            "Epoch 78/100\n",
            "213/213 [==============================] - 2s 8ms/step - loss: 0.1000 - mean_squared_logarithmic_error: 0.1000 - val_loss: 0.1352 - val_mean_squared_logarithmic_error: 0.1343\n",
            "Epoch 79/100\n",
            "213/213 [==============================] - 2s 10ms/step - loss: 0.1001 - mean_squared_logarithmic_error: 0.1000 - val_loss: 0.1582 - val_mean_squared_logarithmic_error: 0.1569\n",
            "Epoch 80/100\n",
            "213/213 [==============================] - 2s 10ms/step - loss: 0.0977 - mean_squared_logarithmic_error: 0.0976 - val_loss: 0.1825 - val_mean_squared_logarithmic_error: 0.1808\n",
            "Epoch 81/100\n",
            "213/213 [==============================] - 2s 7ms/step - loss: 0.0983 - mean_squared_logarithmic_error: 0.0984 - val_loss: 0.1477 - val_mean_squared_logarithmic_error: 0.1465\n",
            "Epoch 82/100\n",
            "213/213 [==============================] - 2s 8ms/step - loss: 0.0999 - mean_squared_logarithmic_error: 0.0999 - val_loss: 0.1614 - val_mean_squared_logarithmic_error: 0.1601\n",
            "Epoch 83/100\n",
            "213/213 [==============================] - 2s 8ms/step - loss: 0.0994 - mean_squared_logarithmic_error: 0.0994 - val_loss: 0.1655 - val_mean_squared_logarithmic_error: 0.1639\n",
            "Epoch 84/100\n",
            "213/213 [==============================] - 2s 8ms/step - loss: 0.0984 - mean_squared_logarithmic_error: 0.0984 - val_loss: 0.1587 - val_mean_squared_logarithmic_error: 0.1574\n",
            "Epoch 85/100\n",
            "213/213 [==============================] - 2s 8ms/step - loss: 0.0987 - mean_squared_logarithmic_error: 0.0987 - val_loss: 0.1652 - val_mean_squared_logarithmic_error: 0.1637\n",
            "Epoch 86/100\n",
            "213/213 [==============================] - 2s 10ms/step - loss: 0.0990 - mean_squared_logarithmic_error: 0.0990 - val_loss: 0.1790 - val_mean_squared_logarithmic_error: 0.1775\n",
            "Epoch 87/100\n",
            "213/213 [==============================] - 2s 11ms/step - loss: 0.0991 - mean_squared_logarithmic_error: 0.0991 - val_loss: 0.1742 - val_mean_squared_logarithmic_error: 0.1727\n",
            "Epoch 88/100\n",
            "213/213 [==============================] - 2s 8ms/step - loss: 0.0990 - mean_squared_logarithmic_error: 0.0990 - val_loss: 0.1693 - val_mean_squared_logarithmic_error: 0.1679\n",
            "Epoch 89/100\n",
            "213/213 [==============================] - 2s 8ms/step - loss: 0.0995 - mean_squared_logarithmic_error: 0.0995 - val_loss: 0.1726 - val_mean_squared_logarithmic_error: 0.1712\n",
            "Epoch 90/100\n",
            "213/213 [==============================] - 2s 8ms/step - loss: 0.1001 - mean_squared_logarithmic_error: 0.1000 - val_loss: 0.2495 - val_mean_squared_logarithmic_error: 0.2473\n",
            "Epoch 91/100\n",
            "213/213 [==============================] - 2s 8ms/step - loss: 0.1021 - mean_squared_logarithmic_error: 0.1020 - val_loss: 0.1463 - val_mean_squared_logarithmic_error: 0.1454\n",
            "Epoch 92/100\n",
            "213/213 [==============================] - 2s 7ms/step - loss: 0.1069 - mean_squared_logarithmic_error: 0.1069 - val_loss: 0.1485 - val_mean_squared_logarithmic_error: 0.1479\n",
            "Epoch 93/100\n",
            "213/213 [==============================] - 2s 10ms/step - loss: 0.1060 - mean_squared_logarithmic_error: 0.1061 - val_loss: 0.1553 - val_mean_squared_logarithmic_error: 0.1544\n",
            "Epoch 94/100\n",
            "213/213 [==============================] - 2s 11ms/step - loss: 0.1037 - mean_squared_logarithmic_error: 0.1036 - val_loss: 0.1976 - val_mean_squared_logarithmic_error: 0.1963\n",
            "Epoch 95/100\n",
            "213/213 [==============================] - 2s 8ms/step - loss: 0.1008 - mean_squared_logarithmic_error: 0.1007 - val_loss: 0.1714 - val_mean_squared_logarithmic_error: 0.1701\n",
            "Epoch 96/100\n",
            "213/213 [==============================] - 2s 8ms/step - loss: 0.0995 - mean_squared_logarithmic_error: 0.0995 - val_loss: 0.1611 - val_mean_squared_logarithmic_error: 0.1601\n",
            "Epoch 97/100\n",
            "213/213 [==============================] - 2s 8ms/step - loss: 0.0985 - mean_squared_logarithmic_error: 0.0984 - val_loss: 0.1783 - val_mean_squared_logarithmic_error: 0.1769\n",
            "Epoch 98/100\n",
            "213/213 [==============================] - 2s 8ms/step - loss: 0.1004 - mean_squared_logarithmic_error: 0.1004 - val_loss: 0.1583 - val_mean_squared_logarithmic_error: 0.1569\n",
            "Epoch 99/100\n",
            "213/213 [==============================] - 2s 8ms/step - loss: 0.0995 - mean_squared_logarithmic_error: 0.0997 - val_loss: 0.1785 - val_mean_squared_logarithmic_error: 0.1773\n",
            "Epoch 100/100\n",
            "213/213 [==============================] - 2s 10ms/step - loss: 0.0997 - mean_squared_logarithmic_error: 0.0996 - val_loss: 0.1201 - val_mean_squared_logarithmic_error: 0.1195\n"
          ]
        }
      ]
    },
    {
      "cell_type": "code",
      "source": [
        "def plot_history(history, key):\n",
        "    plt.plot(history.history[key])\n",
        "    plt.plot(history.history['val_'+key])\n",
        "    plt.xlabel(\"Epochs\")\n",
        "    plt.ylabel(key)\n",
        "    plt.legend([key, 'val_'+key])\n",
        "    plt.show()\n",
        "\n",
        "# Plot the history\n",
        "plot_history(history, 'mean_squared_logarithmic_error')"
      ],
      "metadata": {
        "colab": {
          "base_uri": "https://localhost:8080/"
        },
        "id": "ZqZbo9qjeqdo",
        "outputId": "1969772b-6cdd-46f7-d04a-5dfe11a6d7eb"
      },
      "execution_count": null,
      "outputs": [
        {
          "output_type": "display_data",
          "data": {
            "text/plain": [
              "<Figure size 432x288 with 1 Axes>"
            ],
            "image/png": "[encoded data removed]"
          },
          "metadata": {
            "needs_background": "light"
          }
        }
      ]
    },
    {
      "cell_type": "code",
      "source": [
        "y_pred = model.predict(x_test)\n",
        "print(y_pred)"
      ],
      "metadata": {
        "colab": {
          "base_uri": "https://localhost:8080/"
        },
        "id": "zlsK0BH-e3xR",
        "outputId": "996d0d55-a3c5-4202-dfa2-56324c074127"
      },
      "execution_count": null,
      "outputs": [
        {
          "output_type": "stream",
          "name": "stdout",
          "text": [
            "94/94 [==============================] - 0s 3ms/step\n",
            "[[383798.9  ]\n",
            " [179768.53 ]\n",
            " [301399.1  ]\n",
            " ...\n",
            " [ 91548.984]\n",
            " [101945.625]\n",
            " [442957.3  ]]\n"
          ]
        }
      ]
    },
    {
      "cell_type": "code",
      "source": [
        "r2 = r2_score(y_test, y_pred)\n",
        "print(r2)"
      ],
      "metadata": {
        "colab": {
          "base_uri": "https://localhost:8080/"
        },
        "id": "OWIqQiKn4oPn",
        "outputId": "174477e3-6c88-4e32-de92-4b2687a06cbd"
      },
      "execution_count": null,
      "outputs": [
        {
          "output_type": "stream",
          "name": "stdout",
          "text": [
            "0.6614105258024758\n"
          ]
        }
      ]
    },
    {
      "cell_type": "code",
      "source": [
        "op = model.predict([[-114.31, 34.19, 15.0, 5612.0, 1283.0, 1015.0, 472.0, 1.4936]])\n",
        "print(op[0][0])"
      ],
      "metadata": {
        "colab": {
          "base_uri": "https://localhost:8080/"
        },
        "id": "B_CtH5KHgsRY",
        "outputId": "b25949d0-720a-4fd8-b474-7c92963789c5"
      },
      "execution_count": null,
      "outputs": [
        {
          "output_type": "stream",
          "name": "stdout",
          "text": [
            "1/1 [==============================] - 0s 138ms/step\n",
            "87610.88\n"
          ]
        }
      ]
    }
  ]
}